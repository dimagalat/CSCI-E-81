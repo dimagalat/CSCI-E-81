{
 "cells": [
  {
   "cell_type": "markdown",
   "metadata": {},
   "source": [
    "# Homework 1\n",
    "\n",
    "### Due date: Enter due date here...\n",
    "\n",
    "----------\n",
    "\n",
    "Welcome to CSCI E-81: Machine Learning and Data Mining.  This is your first assignment for this class and has two parts: \n",
    "1. An introduction to the class with an some intitial system configuration and \n",
    "2. A problem set to test that you have the tools installed correctly and also begins our exploration of machine learning and data mining.  \n",
    "\n",
    "## Class Introduction and Course Website\n",
    "\n",
    "*Some text here perhaps...*\n",
    "\n",
    "\n",
    "### Prerequisites and Expectations\n",
    "\n",
    "For this class, we will be using Python for all of the data analysis assignments.  The IPython Notebook (what you are looking at right now) is a browser-based application.  \n",
    "\n",
    "Experience with python in particular is not required but will be helpful.  If you've done any type of scientific programming with a differnet language and you're comfortable learning a new language on your own, then that should suffice.  If you've completed [CSCI E-109](http://cs109.github.io/2014/index.html) then you'll be perfectly prepared.  But if python is new to you then [here is a link](https://github.com/jrjohansson/scientific-python-lectures) to some great python tutorials to help get you started.  \n",
    "  \n",
    "In addition to Python, you should be comfortable with:\n",
    "- reading API's for libraries like [scikit-learn](http://scikit-learn.org/stable/modules/classes.html) or other [documentation](http://scikit-learn.org/stable/documentation.html)\n",
    "- searching websites like [stackoverflow](http://stackoverflow.com/) for help to common questions\n",
    "- posting and/or answering questions on this course's Canvas site\n",
    "\n",
    "### Installing Python\n",
    "\n",
    "Python is free and comes distributed with most Unix/Linux based systems pre-installed.  There are also many free 3rd party libraries available for scientific computing.  We could list all the useful libraries here and install them individually, but Continuum has done a nice job of that for us already with their Anaconda distribution.  Download and install it from [here](http://continuum.io/downloads).   \n",
    "\n",
    "When you have finished installing the distribution, open a terminal and execute the following commands to get the latest versions of all the libraries.  Note that you **must** have a working internet connection for this to be successful. \n",
    "\n",
    "```\n",
    "conda update conda\n",
    "conda update anaconda\n",
    "```\n",
    "\n",
    "### IPython Notebook\n",
    "\n",
    "We will primarily use the IPython Notebook for code assignments.  IPython Notebook is a browswer-based \"interactive computational environment\" that allows you to \"combine code execution, rich text, mathematics, [and] plots\".  To start the notebook server, open a terminal and type \n",
    "\n",
    "```\n",
    "ipython notebook [notebook filename]\n",
    "```\n",
    "\n",
    "The notebook filename is optional and if omitted will launch a file explorer type window that allows you to select from existing notebooks in the current directory or start new ones.  \n",
    "\n",
    "To get started on this homework, download a local copy of this notebook and save it to a directory.  Then browse to that directory in your terminal and execute the command above to begin working.  \n",
    "\n",
    "The IPython Notebook is based on the IPython shell, but combines it with the concept of \"cells\" that contain code or text that can be executed individually.  To execute an individual cell, click on it and press \"shift-enter\" or the play button in the tool bar above.  \n",
    "\n",
    "---"
   ]
  },
  {
   "cell_type": "code",
   "execution_count": 2,
   "metadata": {
    "collapsed": false
   },
   "outputs": [
    {
     "name": "stdout",
     "output_type": "stream",
     "text": [
      "Hello World!\n"
     ]
    }
   ],
   "source": [
    "test = True\n",
    "if test:\n",
    "    print \"Hello World!\""
   ]
  },
  {
   "cell_type": "code",
   "execution_count": 3,
   "metadata": {
    "collapsed": false
   },
   "outputs": [
    {
     "name": "stdout",
     "output_type": "stream",
     "text": [
      "This\n",
      "is\n",
      "a\n",
      "test\n"
     ]
    }
   ],
   "source": [
    "text = ['This', 'is', 'a', 'test']\n",
    "for word in text:\n",
    "    print word"
   ]
  },
  {
   "cell_type": "markdown",
   "metadata": {},
   "source": [
    "## Python Libraries Test"
   ]
  },
  {
   "cell_type": "code",
   "execution_count": 3,
   "metadata": {
    "collapsed": false
   },
   "outputs": [
    {
     "name": "stdout",
     "output_type": "stream",
     "text": [
      "IPython version:       3.2.1 (need at least 3.2.1)\n",
      "Numpy version:         1.9.2 (need at least 1.9.2)\n",
      "SciPy version:        0.15.1 (need at least 0.15.1)\n",
      "Pandas version:       0.16.2 (need at least 0.16.2)\n",
      "Mapltolib version:     1.4.3 (need at least 1.4.3)\n",
      "Scikit-Learn version: 0.16.1 (need at least 0.16.1)\n"
     ]
    }
   ],
   "source": [
    "#IPython is what you are using now to run the notebook\n",
    "import IPython\n",
    "print \"IPython version:      %6.6s (need at least 3.2.1)\" % IPython.__version__\n",
    "\n",
    "# Numpy is a library for working with Arrays\n",
    "import numpy \n",
    "print \"Numpy version:        %6.6s (need at least 1.9.2)\" % numpy.__version__\n",
    "\n",
    "# SciPy implements many different numerical algorithms\n",
    "import scipy \n",
    "print \"SciPy version:        %6.6s (need at least 0.15.1)\" % scipy.__version__\n",
    "\n",
    "# Pandas makes working with data tables easier\n",
    "import pandas \n",
    "print \"Pandas version:       %6.6s (need at least 0.16.2)\" % pandas.__version__\n",
    "\n",
    "# Module for plotting\n",
    "import matplotlib\n",
    "print \"Mapltolib version:    %6.6s (need at least 1.4.3)\" % matplotlib.__version__\n",
    "\n",
    "# SciKit Learn implements several Machine Learning algorithms\n",
    "import sklearn\n",
    "print \"Scikit-Learn version: %6.6s (need at least 0.16.1)\" % sklearn.__version__"
   ]
  },
  {
   "cell_type": "markdown",
   "metadata": {},
   "source": [
    "## Introduction to Python Scientific Libraries\n",
    "\n",
    "Show examples from the libraries above.  \n",
    "\n",
    "Other libraries to include?"
   ]
  },
  {
   "cell_type": "markdown",
   "metadata": {},
   "source": [
    "##Simple Python problems\n",
    "\n",
    "Problem 1a. Create an array of random numbers and plot a histogram\n",
    "Problem 1b. Some simple statistical measures on the data (mean, median, variance, etc.)\n",
    "Problem 1c. "
   ]
  },
  {
   "cell_type": "code",
   "execution_count": 18,
   "metadata": {
    "collapsed": false
   },
   "outputs": [],
   "source": [
    "from sklearn import datasets"
   ]
  },
  {
   "cell_type": "code",
   "execution_count": 19,
   "metadata": {
    "collapsed": true
   },
   "outputs": [],
   "source": [
    "boston = datasets.load_boston()"
   ]
  },
  {
   "cell_type": "code",
   "execution_count": 21,
   "metadata": {
    "collapsed": false
   },
   "outputs": [
    {
     "data": {
      "text/plain": [
       "['data', 'feature_names', 'DESCR', 'target']"
      ]
     },
     "execution_count": 21,
     "metadata": {},
     "output_type": "execute_result"
    }
   ],
   "source": [
    "boston.keys()"
   ]
  },
  {
   "cell_type": "code",
   "execution_count": null,
   "metadata": {
    "collapsed": true
   },
   "outputs": [],
   "source": []
  }
 ],
 "metadata": {
  "kernelspec": {
   "display_name": "Python 2",
   "language": "python",
   "name": "python2"
  },
  "language_info": {
   "codemirror_mode": {
    "name": "ipython",
    "version": 2
   },
   "file_extension": ".py",
   "mimetype": "text/x-python",
   "name": "python",
   "nbconvert_exporter": "python",
   "pygments_lexer": "ipython2",
   "version": "2.7.10"
  }
 },
 "nbformat": 4,
 "nbformat_minor": 0
}
