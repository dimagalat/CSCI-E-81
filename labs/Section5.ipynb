{
 "cells": [
  {
   "cell_type": "code",
   "execution_count": 1,
   "metadata": {
    "collapsed": false
   },
   "outputs": [],
   "source": [
    "# special IPython command to prepare the notebook for matplotlib\n",
    "%matplotlib inline \n",
    "\n",
    "import numpy as np\n",
    "import pandas as pd\n",
    "import scipy.stats as stats\n",
    "import matplotlib.pyplot as plt\n",
    "import statsmodels.api as sm\n",
    "import sklearn\n",
    "\n",
    "# special matplotlib command for global plot configuration\n",
    "from matplotlib import rcParams\n",
    "\n",
    "rcParams['figure.figsize'] = (10, 6)\n",
    "rcParams['figure.dpi'] = 150\n",
    "rcParams['lines.linewidth'] = 2\n",
    "rcParams['axes.facecolor'] = 'white'\n",
    "rcParams['font.size'] = 14\n",
    "rcParams['patch.edgecolor'] = 'white'"
   ]
  },
  {
   "cell_type": "markdown",
   "metadata": {},
   "source": [
    "#Section 5: Clustering Continued and NLP\n",
    "\n",
    "###Last time\n",
    "- GMM for Clustering\n",
    "- EM algorithm\n",
    "\n",
    "\n",
    "###Today\n",
    "- silhouette_score for evaluating cluster models\n",
    "- NLP with nltk and sklearn\n",
    "\n",
    "**Before you begin, you should download the resources associated with the nltk library.**  Open a terminal, and install the nltk package if you haven't already with \n",
    "\n",
    "```\n",
    "conda install nltk\n",
    "```\n",
    "\n",
    "Then open a python shell (preferably your python 3.4 shell) and install the resources with \n",
    "\n",
    "```\n",
    "import nltk\n",
    "nltk.download()\n",
    "```\n",
    "\n",
    "This should launch a download application that looks like the image below.  Select the 'book' material and click download. It could take a little bit of time to complete. \n",
    "\n",
    "<img src='nltk_download.png'>"
   ]
  },
  {
   "cell_type": "markdown",
   "metadata": {},
   "source": [
    "##Clustering review\n",
    "\n",
    "We'll start with an example used in the last section.  Old Faithful.  "
   ]
  },
  {
   "cell_type": "code",
   "execution_count": 2,
   "metadata": {
    "collapsed": true
   },
   "outputs": [],
   "source": [
    "faithful = sm.datasets.get_rdataset(\"faithful\")"
   ]
  },
  {
   "cell_type": "code",
   "execution_count": 5,
   "metadata": {
    "collapsed": false
   },
   "outputs": [],
   "source": [
    "sm.datasets.get_rdataset?"
   ]
  },
  {
   "cell_type": "code",
   "execution_count": 6,
   "metadata": {
    "collapsed": false
   },
   "outputs": [
    {
     "data": {
      "text/plain": [
       "'Old Faithful Geyser Data'"
      ]
     },
     "execution_count": 6,
     "metadata": {},
     "output_type": "execute_result"
    }
   ],
   "source": [
    "faithful.title"
   ]
  },
  {
   "cell_type": "code",
   "execution_count": 7,
   "metadata": {
    "collapsed": false
   },
   "outputs": [
    {
     "data": {
      "text/html": [
       "<div>\n",
       "<table border=\"1\" class=\"dataframe\">\n",
       "  <thead>\n",
       "    <tr style=\"text-align: right;\">\n",
       "      <th></th>\n",
       "      <th>eruptions</th>\n",
       "      <th>waiting</th>\n",
       "    </tr>\n",
       "  </thead>\n",
       "  <tbody>\n",
       "    <tr>\n",
       "      <th>0</th>\n",
       "      <td>3.600</td>\n",
       "      <td>79</td>\n",
       "    </tr>\n",
       "    <tr>\n",
       "      <th>1</th>\n",
       "      <td>1.800</td>\n",
       "      <td>54</td>\n",
       "    </tr>\n",
       "    <tr>\n",
       "      <th>2</th>\n",
       "      <td>3.333</td>\n",
       "      <td>74</td>\n",
       "    </tr>\n",
       "    <tr>\n",
       "      <th>3</th>\n",
       "      <td>2.283</td>\n",
       "      <td>62</td>\n",
       "    </tr>\n",
       "    <tr>\n",
       "      <th>4</th>\n",
       "      <td>4.533</td>\n",
       "      <td>85</td>\n",
       "    </tr>\n",
       "  </tbody>\n",
       "</table>\n",
       "</div>"
      ],
      "text/plain": [
       "   eruptions  waiting\n",
       "0      3.600       79\n",
       "1      1.800       54\n",
       "2      3.333       74\n",
       "3      2.283       62\n",
       "4      4.533       85"
      ]
     },
     "execution_count": 7,
     "metadata": {},
     "output_type": "execute_result"
    }
   ],
   "source": [
    "old_faithful = faithful.data\n",
    "old_faithful.head()"
   ]
  },
  {
   "cell_type": "code",
   "execution_count": 8,
   "metadata": {
    "collapsed": false
   },
   "outputs": [
    {
     "data": {
      "image/png": "[encoded data removed]",
      "text/plain": [
       "<matplotlib.figure.Figure at 0x109391ac8>"
      ]
     },
     "metadata": {},
     "output_type": "display_data"
    },
    {
     "data": {
      "image/png": "[encoded data removed]",
      "text/plain": [
       "<matplotlib.figure.Figure at 0x109391940>"
      ]
     },
     "metadata": {},
     "output_type": "display_data"
    }
   ],
   "source": [
    "plt.hist(old_faithful.eruptions, bins = np.arange(1,6,.2), normed=True)\n",
    "plt.xlabel('Duration of Eruption (min)')\n",
    "plt.show()\n",
    "plt.hist(old_faithful.waiting, bins = np.arange(40,100,2), normed=True)\n",
    "plt.xlabel('Time between eruptions (min)')\n",
    "plt.show()"
   ]
  },
  {
   "cell_type": "code",
   "execution_count": 9,
   "metadata": {
    "collapsed": false
   },
   "outputs": [
    {
     "data": {
      "image/png": "[encoded data removed]",
      "text/plain": [
       "<matplotlib.figure.Figure at 0x109391898>"
      ]
     },
     "metadata": {},
     "output_type": "display_data"
    }
   ],
   "source": [
    "x, y = np.array(old_faithful.eruptions), np.array(old_faithful.waiting)\n",
    "c = np.array([x,y])\n",
    "c = c.T\n",
    "plt.scatter(x,y)\n",
    "plt.xlabel('Eruption duration (mins)')\n",
    "plt.ylabel('Time between eruptions (mins)')\n",
    "plt.show()"
   ]
  },
  {
   "cell_type": "code",
   "execution_count": 10,
   "metadata": {
    "collapsed": false
   },
   "outputs": [
    {
     "name": "stdout",
     "output_type": "stream",
     "text": [
      "initialized mixing weights of each component \n",
      "[ 0.5  0.5]\n"
     ]
    },
    {
     "data": {
      "image/png": "[encoded data removed]",
      "text/plain": [
       "<matplotlib.figure.Figure at 0x1050c06d8>"
      ]
     },
     "metadata": {},
     "output_type": "display_data"
    }
   ],
   "source": [
    "### Scikit-learn\n",
    "#Initializes with zero means and identity covariances of components\n",
    "#http://scikit-learn.org/stable/modules/generated/sklearn.mixture.GMM.html\n",
    "from sklearn import mixture\n",
    "\n",
    "gm = mixture.GMM(n_components=2, n_iter=100, covariance_type='full')\n",
    "print(\"initialized mixing weights of each component \")\n",
    "print(gm.weights_)\n",
    "\n",
    "gm.fit(c)\n",
    "classes = gm.predict(c)\n",
    "# print('')\n",
    "# print classes\n",
    "plt.scatter(c[:,0], c[:,1], c=classes, marker='+', s=100, linewidths=2)\n",
    "plt.title('Scikit-Learn Solution', fontsize=14, fontweight='bold')\n",
    "\n",
    "plt.show()"
   ]
  },
  {
   "cell_type": "code",
   "execution_count": 11,
   "metadata": {
    "collapsed": false
   },
   "outputs": [
    {
     "name": "stdout",
     "output_type": "stream",
     "text": [
      "mixing weights after fit\n",
      "[ 0.64373194  0.35626806]\n",
      "means for each component after fit\n",
      "[[  4.29050323  79.97808339]\n",
      " [  2.03736795  54.4887805 ]]\n",
      "Covariances of components after fir\n",
      "[[[  0.16991429   0.92743463]\n",
      "  [  0.92743463  35.90235533]]\n",
      "\n",
      " [[  0.07096393   0.44389055]\n",
      "  [  0.44389055  33.76486659]]]\n"
     ]
    }
   ],
   "source": [
    "print(\"mixing weights after fit\")\n",
    "print(gm.weights_)\n",
    "print(\"means for each component after fit\")\n",
    "print(gm.means_)\n",
    "print(\"Covariances of components after fir\")\n",
    "print(gm.covars_)"
   ]
  },
  {
   "cell_type": "markdown",
   "metadata": {},
   "source": [
    "##Silhouette Score\n",
    "\n",
    "Note that this link doesn't work but it will get you close!\n",
    "[Wikipedia](https://en.wikipedia.org/wiki/Silhouette_(clustering) entry for Sihouette score.  \n",
    "\n",
    "[Silhouette score](http://scikit-learn.org/stable/modules/generated/sklearn.metrics.silhouette_score.html) from Scikit-learn"
   ]
  },
  {
   "cell_type": "code",
   "execution_count": 12,
   "metadata": {
    "collapsed": true
   },
   "outputs": [],
   "source": [
    "from sklearn.metrics import silhouette_score"
   ]
  },
  {
   "cell_type": "markdown",
   "metadata": {},
   "source": [
    "We can use the silhouette score to evaluate a particular cluster model.  Silhouette scores can be used to help evaluate the appropriate number of clusters that are truly in the data.  The value that is returned is an indicator of how closely grouped the data is.  Values close to 1 mean that the data are appropriately clustered.  If the returned value is close to -1 then the data more likely belongs in the neighboring cluster.  A value of 0 indicates that the data resides on the border of two natural clusters.  "
   ]
  },
  {
   "cell_type": "code",
   "execution_count": 13,
   "metadata": {
    "collapsed": false
   },
   "outputs": [
    {
     "data": {
      "text/plain": [
       "0.85965912927602073"
      ]
     },
     "execution_count": 13,
     "metadata": {},
     "output_type": "execute_result"
    }
   ],
   "source": [
    "gm = mixture.GMM(n_components=2, n_iter=100, covariance_type='full')\n",
    "gm.fit(c)\n",
    "classes = gm.predict(c)\n",
    "silhouette_score(c, classes, metric='sqeuclidean')"
   ]
  },
  {
   "cell_type": "code",
   "execution_count": 14,
   "metadata": {
    "collapsed": false,
    "scrolled": false
   },
   "outputs": [
    {
     "name": "stdout",
     "output_type": "stream",
     "text": [
      "For n_clusters = 2 the average silhouette_score is 0.859659129276\n"
     ]
    },
    {
     "data": {
      "image/png": "[encoded data removed]",
      "text/plain": [
       "<matplotlib.figure.Figure at 0x10b440358>"
      ]
     },
     "metadata": {},
     "output_type": "display_data"
    },
    {
     "name": "stdout",
     "output_type": "stream",
     "text": [
      "For n_clusters = 3 the average silhouette_score is 0.654079224417\n"
     ]
    },
    {
     "data": {
      "image/png": "[encoded data removed]",
      "text/plain": [
       "<matplotlib.figure.Figure at 0x10984c048>"
      ]
     },
     "metadata": {},
     "output_type": "display_data"
    },
    {
     "name": "stdout",
     "output_type": "stream",
     "text": [
      "For n_clusters = 4 the average silhouette_score is 0.42270498592\n"
     ]
    },
    {
     "data": {
      "image/png": "[encoded data removed]",
      "text/plain": [
       "<matplotlib.figure.Figure at 0x10992bf60>"
      ]
     },
     "metadata": {},
     "output_type": "display_data"
    },
    {
     "name": "stdout",
     "output_type": "stream",
     "text": [
      "For n_clusters = 5 the average silhouette_score is 0.266633773093\n"
     ]
    },
    {
     "data": {
      "image/png": "[encoded data removed]",
      "text/plain": [
       "<matplotlib.figure.Figure at 0x10993f438>"
      ]
     },
     "metadata": {},
     "output_type": "display_data"
    },
    {
     "name": "stdout",
     "output_type": "stream",
     "text": [
      "For n_clusters = 6 the average silhouette_score is 0.24309547637\n"
     ]
    },
    {
     "data": {
      "image/png": "[encoded data removed]",
      "text/plain": [
       "<matplotlib.figure.Figure at 0x10934e080>"
      ]
     },
     "metadata": {},
     "output_type": "display_data"
    }
   ],
   "source": [
    "range_n_clusters = [2, 3, 4, 5, 6]\n",
    "\n",
    "for n_clusters in range_n_clusters:\n",
    "    # build the model and fit the data\n",
    "    gm = mixture.GMM(n_components=n_clusters, n_iter=100, covariance_type='full')\n",
    "    gm.fit(c)\n",
    "    classes = gm.predict(c)\n",
    "    silhouette_avg = silhouette_score(c, classes, metric='sqeuclidean')\n",
    "    print('For n_clusters =', n_clusters, 'the average silhouette_score is', silhouette_avg)\n",
    "    \n",
    "    plt.scatter(c[:,0], c[:,1], c=classes, marker='+', s=100, linewidths=2)\n",
    "    plt.title('Solution with %d clusters' % (n_clusters))\n",
    "    plt.show()\n",
    "    "
   ]
  },
  {
   "cell_type": "markdown",
   "metadata": {},
   "source": [
    "##Natural Language Processing (NLP)\n",
    "\n",
    "A quick introduction to NLP with Python using [nltk](http://www.nltk.org) and Scikit-learn.\n",
    "\n",
    "**Start with some basic string processing**"
   ]
  },
  {
   "cell_type": "code",
   "execution_count": 15,
   "metadata": {
    "collapsed": false
   },
   "outputs": [
    {
     "data": {
      "text/plain": [
       "\"Monty Python's Flying Circus. \""
      ]
     },
     "execution_count": 15,
     "metadata": {},
     "output_type": "execute_result"
    }
   ],
   "source": [
    "monty = \"Monty Python's Flying Circus. \" \n",
    "monty"
   ]
  },
  {
   "cell_type": "code",
   "execution_count": 16,
   "metadata": {
    "collapsed": false
   },
   "outputs": [
    {
     "data": {
      "text/plain": [
       "\"Monty Python's Flying Circus. Monty Python's Flying Circus.  Plus just the last word:Circus. \""
      ]
     },
     "execution_count": 16,
     "metadata": {},
     "output_type": "execute_result"
    }
   ],
   "source": [
    "monty*2 + \" Plus just the last word:\" + monty[-8:]"
   ]
  },
  {
   "cell_type": "code",
   "execution_count": 17,
   "metadata": {
    "collapsed": false
   },
   "outputs": [
    {
     "data": {
      "text/plain": [
       "6"
      ]
     },
     "execution_count": 17,
     "metadata": {},
     "output_type": "execute_result"
    }
   ],
   "source": [
    "monty.find('Python') #finds position of substring within string"
   ]
  },
  {
   "cell_type": "code",
   "execution_count": 18,
   "metadata": {
    "collapsed": false
   },
   "outputs": [
    {
     "data": {
      "text/plain": [
       "\"MONTY PYTHON'S FLYING CIRCUS.  and monty python's flying circus. \""
      ]
     },
     "execution_count": 18,
     "metadata": {},
     "output_type": "execute_result"
    }
   ],
   "source": [
    "monty.upper() +' and '+ monty.lower() # turn to upper or lower case. "
   ]
  },
  {
   "cell_type": "code",
   "execution_count": 19,
   "metadata": {
    "collapsed": false
   },
   "outputs": [
    {
     "data": {
      "text/plain": [
       "\"Montx Pxthon's Flxing Circus. \""
      ]
     },
     "execution_count": 19,
     "metadata": {},
     "output_type": "execute_result"
    }
   ],
   "source": [
    "monty.replace('y', 'x') # replace letter y in the string with letter x. "
   ]
  },
  {
   "cell_type": "markdown",
   "metadata": {},
   "source": [
    "**Regular Expressions** \n",
    "\n",
    "If you plan to work with text, [regular expressions](https://docs.python.org/2/library/re.html) are extremely useful tools to become familar with "
   ]
  },
  {
   "cell_type": "code",
   "execution_count": 20,
   "metadata": {
    "collapsed": true
   },
   "outputs": [],
   "source": [
    "import re"
   ]
  },
  {
   "cell_type": "code",
   "execution_count": 21,
   "metadata": {
    "collapsed": false
   },
   "outputs": [
    {
     "data": {
      "text/plain": [
       "8"
      ]
     },
     "execution_count": 21,
     "metadata": {},
     "output_type": "execute_result"
    }
   ],
   "source": [
    "word = 'onomatopoeia'\n",
    "len(re.findall(r'[aeiou]', word))"
   ]
  },
  {
   "cell_type": "markdown",
   "metadata": {},
   "source": [
    "### NLP using NLTK"
   ]
  },
  {
   "cell_type": "code",
   "execution_count": 22,
   "metadata": {
    "collapsed": false
   },
   "outputs": [
    {
     "name": "stdout",
     "output_type": "stream",
     "text": [
      "*** Introductory Examples for the NLTK Book ***\n",
      "Loading text1, ..., text9 and sent1, ..., sent9\n",
      "Type the name of the text or sentence to view it.\n",
      "Type: 'texts()' or 'sents()' to list the materials.\n",
      "text1: Moby Dick by Herman Melville 1851\n",
      "text2: Sense and Sensibility by Jane Austen 1811\n",
      "text3: The Book of Genesis\n",
      "text4: Inaugural Address Corpus\n",
      "text5: Chat Corpus\n",
      "text6: Monty Python and the Holy Grail\n",
      "text7: Wall Street Journal\n",
      "text8: Personals Corpus\n",
      "text9: The Man Who Was Thursday by G . K . Chesterton 1908\n"
     ]
    }
   ],
   "source": [
    "import nltk\n",
    "from nltk.book import text4"
   ]
  },
  {
   "cell_type": "markdown",
   "metadata": {},
   "source": [
    "**List Comprehension**"
   ]
  },
  {
   "cell_type": "markdown",
   "metadata": {},
   "source": [
    "What does the command below do?"
   ]
  },
  {
   "cell_type": "code",
   "execution_count": 23,
   "metadata": {
    "collapsed": false
   },
   "outputs": [
    {
     "data": {
      "text/plain": [
       "7339"
      ]
     },
     "execution_count": 23,
     "metadata": {},
     "output_type": "execute_result"
    }
   ],
   "source": [
    "len(set([word.lower() for word in text4 if len(word) > 5]))"
   ]
  },
  {
   "cell_type": "markdown",
   "metadata": {},
   "source": [
    "What does the set method do?"
   ]
  },
  {
   "cell_type": "code",
   "execution_count": 24,
   "metadata": {
    "collapsed": false
   },
   "outputs": [
    {
     "data": {
      "text/plain": [
       "{'a', 'b', 'c'}"
      ]
     },
     "execution_count": 24,
     "metadata": {},
     "output_type": "execute_result"
    }
   ],
   "source": [
    "set(['a', 'b', 'a', 'c', 'b', ])"
   ]
  },
  {
   "cell_type": "code",
   "execution_count": 25,
   "metadata": {
    "collapsed": false
   },
   "outputs": [
    {
     "data": {
      "text/plain": [
       "['FELLOW', '-', 'CITIZENS', 'OF', 'THE']"
      ]
     },
     "execution_count": 25,
     "metadata": {},
     "output_type": "execute_result"
    }
   ],
   "source": [
    "[element.upper() for element in text4[0:5]]"
   ]
  },
  {
   "cell_type": "markdown",
   "metadata": {},
   "source": [
    "**Words in context**\n",
    "\n",
    "NLTK books are Text objects that have many built-in methods available like searching for results and also returning the context. "
   ]
  },
  {
   "cell_type": "code",
   "execution_count": 26,
   "metadata": {
    "collapsed": true
   },
   "outputs": [],
   "source": [
    "text = nltk.Text('This is some text that could be a sentence.')"
   ]
  },
  {
   "cell_type": "code",
   "execution_count": 69,
   "metadata": {
    "collapsed": false
   },
   "outputs": [
    {
     "name": "stdout",
     "output_type": "stream",
     "text": [
      "Displaying 25 of 4676 matches:\n",
      "d on the 14th day of the present month . On the one hand , I was summoned by my\n",
      " gradual waste committed on it by time . On the other hand , the magnitude and \n",
      "arly conscious of his own deficiencies . In this conflict of emotions all I dar\n",
      "umstance by which it might be affected . All I dare hope is that if , in execut\n",
      "he partiality in which they originated . Such being the impressions under which\n",
      "s the functions allotted to his charge . In tendering this homage to the Great \n",
      "low citizens at large less than either . No people can be bound to acknowledge \n",
      "n more than those of the United States . Every step by which they have advanced\n",
      "essings which the past seem to presage . These reflections , arising out of the\n",
      "o strongly on my mind to be suppressed . You will join with me , I trust , in t\n",
      "ernment can more auspiciously commence . By the article establishing the execut\n",
      "to which your attention is to be given . It will be more consistent with those \n",
      "ters selected to devise and adopt them . In these honorable qualifications I be\n",
      "s and command the respect of the world . I dwell on this prospect with every sa\n",
      "ed to the hands of the American people . Besides the ordinary objects submitted\n",
      "quietude which has given birth to them . Instead of undertaking particular reco\n",
      " be safely and advantageously promoted . To the foregoing observations I have o\n",
      "ressed to the House of Representatives . It concerns myself , and will therefor\n",
      "will therefore be as brief as possible . When I was first honored with a call i\n",
      " renounce every pecuniary compensation . From this resolution I have in no inst\n",
      " public good may be thought to require . Having thus imparted to you my sentime\n",
      "success of this Government must depend . Fellow citizens , I am again called up\n",
      " the functions of its Chief Magistrate . When the occasion proper for it shall \n",
      " in me by the people of united America . Previous to the execution of any offic\n",
      "onstitution requires an oath of office . This oath I am now about to take , and\n"
     ]
    }
   ],
   "source": [
    "text4.concordance(\".\")"
   ]
  },
  {
   "cell_type": "code",
   "execution_count": 33,
   "metadata": {
    "collapsed": false
   },
   "outputs": [
    {
     "name": "stdout",
     "output_type": "stream",
     "text": [
      "America; America; America; America; America; America; America;\n",
      "America; America; America; America; America; America; America;\n",
      "America; America; America; America; America; America; America;\n",
      "America; America; America; America; America; America; America;\n",
      "America; America; America; America; America; America; America;\n",
      "America; America; America; America; America; America; America;\n",
      "America; America; America; America; America; America; America;\n",
      "America; America; America; America; America; America; America;\n",
      "America; America; America; America; America; America; America;\n",
      "America; America; America; America; America; America; America;\n",
      "America; America; America; America; America; America; America;\n",
      "America; America; America; America; America; America; America;\n",
      "America; America; America; America; America; America; America;\n",
      "America; America; America; America; America; America; America;\n",
      "America; America; America; America; America; America; America;\n",
      "America; America; America; America; America; America; America;\n",
      "America; America; America; America; America; America; America;\n",
      "America; America; America; America; America; America; America;\n",
      "America; America; America; America; America; America; America;\n",
      "America; America; America; America; America; America; America;\n",
      "America; America; America; America; America; America; America;\n",
      "America; America; America; America; America; America; America;\n",
      "America; America; America; America; America; America; America;\n",
      "America; America; America; America; America; America; America;\n",
      "America; America; America; America; America; America; America;\n",
      "America; America; America; America; America; America; America;\n",
      "America; America; America; America; America; America; America;\n",
      "America; America; America\n"
     ]
    }
   ],
   "source": [
    "text4.findall('<America>')"
   ]
  },
  {
   "cell_type": "code",
   "execution_count": 28,
   "metadata": {
    "collapsed": true
   },
   "outputs": [],
   "source": [
    "text4.similar?"
   ]
  },
  {
   "cell_type": "code",
   "execution_count": 30,
   "metadata": {
    "collapsed": false
   },
   "outputs": [
    {
     "name": "stdout",
     "output_type": "stream",
     "text": [
      "people states world union constitution executive government right\n",
      "country time effort president power future nation man land mind sound\n",
      "principles\n"
     ]
    }
   ],
   "source": [
    "text4.similar('citizen')"
   ]
  },
  {
   "cell_type": "code",
   "execution_count": 34,
   "metadata": {
    "collapsed": true
   },
   "outputs": [],
   "source": [
    "text4.common_contexts?"
   ]
  },
  {
   "cell_type": "code",
   "execution_count": 35,
   "metadata": {
    "collapsed": false
   },
   "outputs": [
    {
     "name": "stdout",
     "output_type": "stream",
     "text": [
      "in_and of_will of_is of_it of_s of_we of_the of_and the_of that_is\n",
      "of_have for_is to_and and_will in_s of_in for_and\n"
     ]
    }
   ],
   "source": [
    "text4.common_contexts(['America', 'freedom'])"
   ]
  },
  {
   "cell_type": "code",
   "execution_count": 36,
   "metadata": {
    "collapsed": false
   },
   "outputs": [
    {
     "data": {
      "image/png": "[encoded data removed]",
      "text/plain": [
       "<matplotlib.figure.Figure at 0x114aeacf8>"
      ]
     },
     "metadata": {},
     "output_type": "display_data"
    }
   ],
   "source": [
    "from nltk.draw.dispersion import dispersion_plot\n",
    "dispersion_plot(text4, [\"citizens\", \"democracy\", \"freedom\", \"war\", \"America\", \"vote\"])"
   ]
  },
  {
   "cell_type": "markdown",
   "metadata": {},
   "source": [
    "** Simple Statistics **\n",
    "\n",
    "- Frequency distribution of words.  Find the counts for each word in the text"
   ]
  },
  {
   "cell_type": "code",
   "execution_count": 37,
   "metadata": {
    "collapsed": false
   },
   "outputs": [
    {
     "data": {
      "text/plain": [
       "FreqDist({'the': 9281, 'of': 6970, ',': 6840, 'and': 4991, '.': 4676, 'to': 4311, 'in': 2527, 'a': 2134, 'our': 1905, 'that': 1688, ...})"
      ]
     },
     "execution_count": 37,
     "metadata": {},
     "output_type": "execute_result"
    }
   ],
   "source": [
    "from nltk import FreqDist\n",
    "freq_dist = FreqDist(text4)\n",
    "freq_dist"
   ]
  },
  {
   "cell_type": "markdown",
   "metadata": {},
   "source": [
    "- Access the entire list of words in a text"
   ]
  },
  {
   "cell_type": "code",
   "execution_count": 38,
   "metadata": {
    "collapsed": false
   },
   "outputs": [
    {
     "data": {
      "text/plain": [
       "['warming', 'residents', 'writers']"
      ]
     },
     "execution_count": 38,
     "metadata": {},
     "output_type": "execute_result"
    }
   ],
   "source": [
    "vocabulary = list(freq_dist.keys()) # list of all the distinct types in the text\n",
    "vocabulary[:3] # look at first 3"
   ]
  },
  {
   "cell_type": "markdown",
   "metadata": {},
   "source": [
    "- identify specific sets of words (e.g. long words) to help characterize the body of text"
   ]
  },
  {
   "cell_type": "code",
   "execution_count": 39,
   "metadata": {
    "collapsed": false
   },
   "outputs": [
    {
     "data": {
      "text/plain": [
       "['RESPONSIBILITIES',\n",
       " 'antiphilosophists',\n",
       " 'constitutionally',\n",
       " 'contradistinction',\n",
       " 'discountenancing',\n",
       " 'disqualification',\n",
       " 'enthusiastically',\n",
       " 'instrumentalities',\n",
       " 'internationality',\n",
       " 'irresponsibility',\n",
       " 'misappropriation',\n",
       " 'misrepresentation',\n",
       " 'misunderstanding',\n",
       " 'responsibilities',\n",
       " 'sentimentalizing',\n",
       " 'transcontinental',\n",
       " 'uncharitableness',\n",
       " 'unconstitutional']"
      ]
     },
     "execution_count": 39,
     "metadata": {},
     "output_type": "execute_result"
    }
   ],
   "source": [
    "words = set(text4)\n",
    "long_words = [word for word in words if len(word) > 15]\n",
    "sorted(long_words)"
   ]
  },
  {
   "cell_type": "markdown",
   "metadata": {},
   "source": [
    "##Lexical Resources from nltk\n",
    "\n",
    "NLTK provides several corpora (linguistic annotations, POS tags, named entities, syntactic structures, semantic roles, etc.) along with convenient methods to access these resources. The full list of corpora resources is available [here](http://www.nltk.org/book/ch02.html#tab-corpora)\n",
    "\n"
   ]
  },
  {
   "cell_type": "markdown",
   "metadata": {},
   "source": [
    "### Counting words by genre\n",
    "\n",
    "The [Brown Corpus](https://en.wikipedia.org/wiki/Brown_Corpus) is a text collection that contains over 500 samples of english text that have been labeled with part-of-speech (POS) and genre.  It has been one of the most widely used collections in computational linguistics (statistical modeling of natual language)"
   ]
  },
  {
   "cell_type": "code",
   "execution_count": 40,
   "metadata": {
    "collapsed": true
   },
   "outputs": [],
   "source": [
    "from nltk.corpus import brown"
   ]
  },
  {
   "cell_type": "code",
   "execution_count": 41,
   "metadata": {
    "collapsed": true
   },
   "outputs": [],
   "source": [
    "cfd = nltk.ConditionalFreqDist((genre, word) \n",
    "                               for genre in brown.categories() \n",
    "                               for word in brown.words(categories=genre))"
   ]
  },
  {
   "cell_type": "code",
   "execution_count": 42,
   "metadata": {
    "collapsed": false
   },
   "outputs": [
    {
     "data": {
      "text/plain": [
       "['reviews',\n",
       " 'hobbies',\n",
       " 'belles_lettres',\n",
       " 'news',\n",
       " 'romance',\n",
       " 'science_fiction',\n",
       " 'fiction',\n",
       " 'adventure',\n",
       " 'religion',\n",
       " 'learned',\n",
       " 'mystery',\n",
       " 'humor',\n",
       " 'government',\n",
       " 'lore',\n",
       " 'editorial']"
      ]
     },
     "execution_count": 42,
     "metadata": {},
     "output_type": "execute_result"
    }
   ],
   "source": [
    "cfd.conditions()"
   ]
  },
  {
   "cell_type": "markdown",
   "metadata": {},
   "source": [
    "Now instead of simply looking at the frequency distribution of words in a text, these methods allow inspection of word frequency distribution by genre. "
   ]
  },
  {
   "cell_type": "code",
   "execution_count": 43,
   "metadata": {
    "collapsed": true
   },
   "outputs": [],
   "source": [
    "genre_word = [(genre, word) \n",
    "              for genre in ['government', 'religion'] \n",
    "              for word in brown.words(categories=genre)]"
   ]
  },
  {
   "cell_type": "code",
   "execution_count": 44,
   "metadata": {
    "collapsed": false
   },
   "outputs": [
    {
     "data": {
      "text/plain": [
       "[('government', 'The'),\n",
       " ('government', 'Office'),\n",
       " ('government', 'of'),\n",
       " ('government', 'Business')]"
      ]
     },
     "execution_count": 44,
     "metadata": {},
     "output_type": "execute_result"
    }
   ],
   "source": [
    "genre_word[:4]"
   ]
  },
  {
   "cell_type": "code",
   "execution_count": 45,
   "metadata": {
    "collapsed": false
   },
   "outputs": [
    {
     "data": {
      "text/plain": [
       "[('religion', 'Fidel'),\n",
       " ('religion', \"Castro's\"),\n",
       " ('religion', 'regime'),\n",
       " ('religion', '.')]"
      ]
     },
     "execution_count": 45,
     "metadata": {},
     "output_type": "execute_result"
    }
   ],
   "source": [
    "genre_word[-4:]"
   ]
  },
  {
   "cell_type": "markdown",
   "metadata": {},
   "source": [
    "Create a new condiation frequency distribution"
   ]
  },
  {
   "cell_type": "code",
   "execution_count": 46,
   "metadata": {
    "collapsed": false
   },
   "outputs": [
    {
     "data": {
      "text/plain": [
       "['government', 'religion']"
      ]
     },
     "execution_count": 46,
     "metadata": {},
     "output_type": "execute_result"
    }
   ],
   "source": [
    "cfd = nltk.ConditionalFreqDist(genre_word)\n",
    "cfd.conditions()"
   ]
  },
  {
   "cell_type": "code",
   "execution_count": 47,
   "metadata": {
    "collapsed": false
   },
   "outputs": [
    {
     "name": "stdout",
     "output_type": "stream",
     "text": [
      "<FreqDist with 6373 samples and 39399 outcomes>\n"
     ]
    }
   ],
   "source": [
    "print(cfd['religion'])"
   ]
  },
  {
   "cell_type": "code",
   "execution_count": 49,
   "metadata": {
    "collapsed": false
   },
   "outputs": [
    {
     "data": {
      "text/plain": [
       "[('the', 4143),\n",
       " (',', 3405),\n",
       " ('of', 3031),\n",
       " ('.', 2493),\n",
       " ('and', 1923),\n",
       " ('to', 1829),\n",
       " ('in', 1319),\n",
       " ('a', 867),\n",
       " ('for', 806),\n",
       " ('is', 649)]"
      ]
     },
     "execution_count": 49,
     "metadata": {},
     "output_type": "execute_result"
    }
   ],
   "source": [
    "cfd['government'].most_common(10)"
   ]
  },
  {
   "cell_type": "markdown",
   "metadata": {},
   "source": [
    "### Stopwords\n",
    "\n",
    "Another corpus of stopwords is also included in the nltk resources.  These are the high-frequency words like 'the', 'to', 'of', etc. that have little lexical content and contribute little to a text's distinguising characteristics"
   ]
  },
  {
   "cell_type": "code",
   "execution_count": 50,
   "metadata": {
    "collapsed": false
   },
   "outputs": [
    {
     "data": {
      "text/plain": [
       "['i',\n",
       " 'me',\n",
       " 'my',\n",
       " 'myself',\n",
       " 'we',\n",
       " 'our',\n",
       " 'ours',\n",
       " 'ourselves',\n",
       " 'you',\n",
       " 'your',\n",
       " 'yours',\n",
       " 'yourself',\n",
       " 'yourselves',\n",
       " 'he',\n",
       " 'him',\n",
       " 'his',\n",
       " 'himself',\n",
       " 'she',\n",
       " 'her',\n",
       " 'hers',\n",
       " 'herself',\n",
       " 'it',\n",
       " 'its',\n",
       " 'itself',\n",
       " 'they',\n",
       " 'them',\n",
       " 'their',\n",
       " 'theirs',\n",
       " 'themselves',\n",
       " 'what',\n",
       " 'which',\n",
       " 'who',\n",
       " 'whom',\n",
       " 'this',\n",
       " 'that',\n",
       " 'these',\n",
       " 'those',\n",
       " 'am',\n",
       " 'is',\n",
       " 'are',\n",
       " 'was',\n",
       " 'were',\n",
       " 'be',\n",
       " 'been',\n",
       " 'being',\n",
       " 'have',\n",
       " 'has',\n",
       " 'had',\n",
       " 'having',\n",
       " 'do',\n",
       " 'does',\n",
       " 'did',\n",
       " 'doing',\n",
       " 'a',\n",
       " 'an',\n",
       " 'the',\n",
       " 'and',\n",
       " 'but',\n",
       " 'if',\n",
       " 'or',\n",
       " 'because',\n",
       " 'as',\n",
       " 'until',\n",
       " 'while',\n",
       " 'of',\n",
       " 'at',\n",
       " 'by',\n",
       " 'for',\n",
       " 'with',\n",
       " 'about',\n",
       " 'against',\n",
       " 'between',\n",
       " 'into',\n",
       " 'through',\n",
       " 'during',\n",
       " 'before',\n",
       " 'after',\n",
       " 'above',\n",
       " 'below',\n",
       " 'to',\n",
       " 'from',\n",
       " 'up',\n",
       " 'down',\n",
       " 'in',\n",
       " 'out',\n",
       " 'on',\n",
       " 'off',\n",
       " 'over',\n",
       " 'under',\n",
       " 'again',\n",
       " 'further',\n",
       " 'then',\n",
       " 'once',\n",
       " 'here',\n",
       " 'there',\n",
       " 'when',\n",
       " 'where',\n",
       " 'why',\n",
       " 'how',\n",
       " 'all',\n",
       " 'any',\n",
       " 'both',\n",
       " 'each',\n",
       " 'few',\n",
       " 'more',\n",
       " 'most',\n",
       " 'other',\n",
       " 'some',\n",
       " 'such',\n",
       " 'no',\n",
       " 'nor',\n",
       " 'not',\n",
       " 'only',\n",
       " 'own',\n",
       " 'same',\n",
       " 'so',\n",
       " 'than',\n",
       " 'too',\n",
       " 'very',\n",
       " 's',\n",
       " 't',\n",
       " 'can',\n",
       " 'will',\n",
       " 'just',\n",
       " 'don',\n",
       " 'should',\n",
       " 'now']"
      ]
     },
     "execution_count": 50,
     "metadata": {},
     "output_type": "execute_result"
    }
   ],
   "source": [
    "from nltk.corpus import stopwords\n",
    "stopwords.words('english')"
   ]
  },
  {
   "cell_type": "markdown",
   "metadata": {},
   "source": [
    "We can remove the stopwords from the text and then rerun the processing"
   ]
  },
  {
   "cell_type": "code",
   "execution_count": 51,
   "metadata": {
    "collapsed": false
   },
   "outputs": [],
   "source": [
    "filtered_genre_word = [word \n",
    "                       for word in genre_word \n",
    "                       if word[1].lower() not in stopwords.words('english')]"
   ]
  },
  {
   "cell_type": "code",
   "execution_count": 52,
   "metadata": {
    "collapsed": false
   },
   "outputs": [
    {
     "data": {
      "text/plain": [
       "['government', 'religion']"
      ]
     },
     "execution_count": 52,
     "metadata": {},
     "output_type": "execute_result"
    }
   ],
   "source": [
    "filtered_cfd = nltk.ConditionalFreqDist(filtered_genre_word)\n",
    "filtered_cfd.conditions()"
   ]
  },
  {
   "cell_type": "code",
   "execution_count": 53,
   "metadata": {
    "collapsed": false
   },
   "outputs": [
    {
     "data": {
      "text/plain": [
       "[(',', 1913),\n",
       " ('.', 1382),\n",
       " (';', 308),\n",
       " ('``', 270),\n",
       " (\"''\", 266),\n",
       " ('?', 148),\n",
       " ('God', 131),\n",
       " (')', 127),\n",
       " (':', 123),\n",
       " ('--', 110)]"
      ]
     },
     "execution_count": 53,
     "metadata": {},
     "output_type": "execute_result"
    }
   ],
   "source": [
    "filtered_cfd['religion'].most_common(10)"
   ]
  },
  {
   "cell_type": "markdown",
   "metadata": {},
   "source": [
    "### Punctuation\n",
    "\n",
    "We can also remove punctuation from text"
   ]
  },
  {
   "cell_type": "code",
   "execution_count": 54,
   "metadata": {
    "collapsed": true
   },
   "outputs": [],
   "source": [
    "import string"
   ]
  },
  {
   "cell_type": "code",
   "execution_count": 55,
   "metadata": {
    "collapsed": false
   },
   "outputs": [],
   "source": [
    "clean_genre_word = [word \n",
    "                    for word in filtered_genre_word \n",
    "                    if word[1] not in string.punctuation]"
   ]
  },
  {
   "cell_type": "code",
   "execution_count": 58,
   "metadata": {
    "collapsed": false
   },
   "outputs": [
    {
     "data": {
      "text/plain": [
       "[('``', 270),\n",
       " (\"''\", 266),\n",
       " ('God', 131),\n",
       " ('--', 110),\n",
       " ('world', 90),\n",
       " ('one', 87),\n",
       " ('may', 78),\n",
       " ('new', 77),\n",
       " ('would', 68),\n",
       " ('man', 64)]"
      ]
     },
     "execution_count": 58,
     "metadata": {},
     "output_type": "execute_result"
    }
   ],
   "source": [
    "clean_cfd = nltk.ConditionalFreqDist(clean_genre_word)\n",
    "clean_cfd['religion'].most_common(10)"
   ]
  },
  {
   "cell_type": "markdown",
   "metadata": {},
   "source": [
    "### Stemming using NLTK\n",
    "\n",
    "Stemming is a reference to the process of reducing inflected or derived words to their word stem, base or root form.  There are several algorithms for stemming available today.  Most stemming algorithms function through the use of a lookup table, which is simple and effecient for languages like english but could prove difficult for other languages where inflection plays a bigger role. "
   ]
  },
  {
   "cell_type": "code",
   "execution_count": 59,
   "metadata": {
    "collapsed": true
   },
   "outputs": [],
   "source": [
    "stem_text = 'cats catlike catty cat stemmer stemming stemmed stem fishing fished fisher fish'"
   ]
  },
  {
   "cell_type": "code",
   "execution_count": 60,
   "metadata": {
    "collapsed": false,
    "scrolled": true
   },
   "outputs": [
    {
     "data": {
      "text/plain": [
       "'cats catlike catty cat stemmer stemming stemmed stem fishing fished fisher fish'"
      ]
     },
     "execution_count": 60,
     "metadata": {},
     "output_type": "execute_result"
    }
   ],
   "source": [
    "stem_text"
   ]
  },
  {
   "cell_type": "markdown",
   "metadata": {},
   "source": [
    "- The text must first be broken up into tokens.  We can use the word_tokenize method here.  There's also a method [sent_tokenize](http://www.nltk.org/api/nltk.tokenize.html) to break up larger pieces of text into sentences. "
   ]
  },
  {
   "cell_type": "code",
   "execution_count": 61,
   "metadata": {
    "collapsed": false
   },
   "outputs": [],
   "source": [
    "tokens = nltk.word_tokenize(stem_text)"
   ]
  },
  {
   "cell_type": "code",
   "execution_count": 62,
   "metadata": {
    "collapsed": false
   },
   "outputs": [
    {
     "data": {
      "text/plain": [
       "['cats',\n",
       " 'catlike',\n",
       " 'catty',\n",
       " 'cat',\n",
       " 'stemmer',\n",
       " 'stemming',\n",
       " 'stemmed',\n",
       " 'stem',\n",
       " 'fishing',\n",
       " 'fished',\n",
       " 'fisher',\n",
       " 'fish']"
      ]
     },
     "execution_count": 62,
     "metadata": {},
     "output_type": "execute_result"
    }
   ],
   "source": [
    "tokens"
   ]
  },
  {
   "cell_type": "markdown",
   "metadata": {},
   "source": [
    "### Porter Stemmer\n",
    "\n",
    "The [Porter Stemmer](http://tartarus.org/~martin/PorterStemmer/) is one of the more widely used stemming algorithms. "
   ]
  },
  {
   "cell_type": "code",
   "execution_count": 63,
   "metadata": {
    "collapsed": false
   },
   "outputs": [
    {
     "data": {
      "text/plain": [
       "['cat',\n",
       " 'catlik',\n",
       " 'catti',\n",
       " 'cat',\n",
       " 'stemmer',\n",
       " 'stem',\n",
       " 'stem',\n",
       " 'stem',\n",
       " 'fish',\n",
       " 'fish',\n",
       " 'fisher',\n",
       " 'fish']"
      ]
     },
     "execution_count": 63,
     "metadata": {},
     "output_type": "execute_result"
    }
   ],
   "source": [
    "porter = nltk.PorterStemmer()\n",
    "stemmed = [porter.stem(t) for t in tokens]\n",
    "stemmed"
   ]
  },
  {
   "cell_type": "markdown",
   "metadata": {},
   "source": [
    "### Snowball stemmer\n",
    "\n",
    "The [snowball stemmer](http://snowball.tartarus.org/) is based on a language that was developed specifically for stemming algorithms.  "
   ]
  },
  {
   "cell_type": "code",
   "execution_count": 64,
   "metadata": {
    "collapsed": false
   },
   "outputs": [
    {
     "data": {
      "text/plain": [
       "['cat',\n",
       " 'catlik',\n",
       " 'catti',\n",
       " 'cat',\n",
       " 'stemmer',\n",
       " 'stem',\n",
       " 'stem',\n",
       " 'stem',\n",
       " 'fish',\n",
       " 'fish',\n",
       " 'fisher',\n",
       " 'fish']"
      ]
     },
     "execution_count": 64,
     "metadata": {},
     "output_type": "execute_result"
    }
   ],
   "source": [
    "snowball = nltk.SnowballStemmer('english')\n",
    "snowball_stemmed = [snowball.stem(t) for t in tokens]\n",
    "snowball_stemmed"
   ]
  },
  {
   "cell_type": "markdown",
   "metadata": {},
   "source": [
    "### Lancaster stemmer\n",
    "\n",
    "The [Lancaster stemmer](http://www.lancaster.ac.uk/scc/) was developed at the University of Lancaster from where it gets its name. "
   ]
  },
  {
   "cell_type": "code",
   "execution_count": 65,
   "metadata": {
    "collapsed": false
   },
   "outputs": [
    {
     "data": {
      "text/plain": [
       "['cat',\n",
       " 'catlik',\n",
       " 'catty',\n",
       " 'cat',\n",
       " 'stem',\n",
       " 'stem',\n",
       " 'stem',\n",
       " 'stem',\n",
       " 'fish',\n",
       " 'fish',\n",
       " 'fish',\n",
       " 'fish']"
      ]
     },
     "execution_count": 65,
     "metadata": {},
     "output_type": "execute_result"
    }
   ],
   "source": [
    "lancaster = nltk.LancasterStemmer()\n",
    "lancaster_stemmed = [lancaster.stem(t) for t in tokens]\n",
    "lancaster_stemmed"
   ]
  },
  {
   "cell_type": "markdown",
   "metadata": {},
   "source": [
    "## Text Similarity with TF-IDF\n",
    "\n",
    "The tf-idf (term frequency-inverse document frequency) is used to weigh how important a word of a document is in a document collection. It is often used as a weighting factor in information retrieval and data mining. So, tf-idf weight for a term is the product of its term frequency (tf) weight and inverse document freqency (idf) weight."
   ]
  },
  {
   "cell_type": "code",
   "execution_count": 66,
   "metadata": {
    "collapsed": true
   },
   "outputs": [],
   "source": [
    "from sklearn.feature_extraction.text import TfidfVectorizer"
   ]
  },
  {
   "cell_type": "markdown",
   "metadata": {},
   "source": [
    "Load some simple text and calculate a comparison matrix"
   ]
  },
  {
   "cell_type": "code",
   "execution_count": 67,
   "metadata": {
    "collapsed": true
   },
   "outputs": [],
   "source": [
    "vect = TfidfVectorizer(min_df=1)\n",
    "tfidf = vect.fit_transform([\"New Year's Eve in New York\",\n",
    "                            \"New Year's Eve in London\",\n",
    "                            \"York is closer to London than to New York\",\n",
    "                            \"London is closer to Bucharest than to New York\"])"
   ]
  },
  {
   "cell_type": "code",
   "execution_count": 68,
   "metadata": {
    "collapsed": false
   },
   "outputs": [
    {
     "name": "stdout",
     "output_type": "stream",
     "text": [
      "[[ 1.          0.82384531  0.28730789  0.20464882]\n",
      " [ 0.82384531  1.          0.16511247  0.1679379 ]\n",
      " [ 0.28730789  0.16511247  1.          0.89268279]\n",
      " [ 0.20464882  0.1679379   0.89268279  1.        ]]\n"
     ]
    }
   ],
   "source": [
    "cosine=(tfidf * tfidf.T).A\n",
    "print(cosine)"
   ]
  },
  {
   "cell_type": "markdown",
   "metadata": {},
   "source": [
    "##NLP tools and beyond\n",
    "\n",
    "This is fun, but what is next?\n",
    "\n",
    "[Text clustering](https://gist.github.com/xim/1279283).  Try downloading this code and executing it on your own. "
   ]
  },
  {
   "cell_type": "code",
   "execution_count": null,
   "metadata": {
    "collapsed": true
   },
   "outputs": [],
   "source": []
  }
 ],
 "metadata": {
  "kernelspec": {
   "display_name": "Python 3",
   "language": "python",
   "name": "python3"
  },
  "language_info": {
   "codemirror_mode": {
    "name": "ipython",
    "version": 3
   },
   "file_extension": ".py",
   "mimetype": "text/x-python",
   "name": "python",
   "nbconvert_exporter": "python",
   "pygments_lexer": "ipython3",
   "version": "3.4.3"
  }
 },
 "nbformat": 4,
 "nbformat_minor": 0
}
