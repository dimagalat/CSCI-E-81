{
 "cells": [
  {
   "cell_type": "code",
   "execution_count": 1,
   "metadata": {
    "collapsed": true
   },
   "outputs": [],
   "source": [
    "# special IPython command to prepare the notebook for matplotlib\n",
    "%matplotlib inline \n",
    "\n",
    "import numpy as np\n",
    "import pandas as pd\n",
    "import scipy.stats as stats\n",
    "import matplotlib.pyplot as plt\n",
    "import statsmodels.api as sm\n",
    "import sklearn\n",
    "\n",
    "# special matplotlib command for global plot configuration\n",
    "from matplotlib import rcParams\n",
    "\n",
    "rcParams['figure.figsize'] = (10, 6)\n",
    "rcParams['figure.dpi'] = 150\n",
    "rcParams['lines.linewidth'] = 2\n",
    "rcParams['axes.facecolor'] = 'white'\n",
    "rcParams['font.size'] = 14\n",
    "rcParams['patch.edgecolor'] = 'white'"
   ]
  },
  {
   "cell_type": "markdown",
   "metadata": {},
   "source": [
    "## Section 9: Logistic Regression, Naive Bayes and ...\n",
    "\n",
    "Last time:\n",
    "\n",
    "Today:\n",
    "- Logistic Regression\n",
    "- Perceptron\n"
   ]
  },
  {
   "cell_type": "markdown",
   "metadata": {},
   "source": [
    "## Logistic Regression for Spam Filtering\n",
    "\n",
    "*This example is borrrowed from 'Mastering Machine Learning with scikit-learn' by Gavin Hackeling (2014)*\n",
    "\n",
    "###Binary classification with logistic regression\n",
    "In logistic regression, the response variable describes the probability that the outcome is teh positive case.  If the response variabel is equal to or exceeds a discrimination threshold, then the positive case is predicted. Otherwise the negative class is predicted.  The response variable is modeled as a function of a linear combination of the explanatory variables using the [logistic function](https://en.wikipedia.org/wiki/Logistic_function).  \n",
    "\n",
    "Example use cases:\n",
    "- coin toss\n",
    "- spam filtering\n",
    "- medical diagnosis\n",
    "\n",
    "###Spam filtering\n",
    "We'll use TF-IDF features to help classify emails and SMS messages as either spam or not using logistic regression\n",
    " \n",
    "You can download the data from [here](http://archive.ics.uci.edu/ml/machine-learning-databases/00228/)\n",
    "\n",
    "And start with some basic exploratory analysis."
   ]
  },
  {
   "cell_type": "code",
   "execution_count": 2,
   "metadata": {
    "collapsed": false
   },
   "outputs": [],
   "source": [
    "spam = pd.read_csv('SMSSpamCollection', delimiter='\\t', names=['label', 'email'], header=None)"
   ]
  },
  {
   "cell_type": "code",
   "execution_count": 51,
   "metadata": {
    "collapsed": false
   },
   "outputs": [
    {
     "data": {
      "text/html": [
       "<div>\n",
       "<table border=\"1\" class=\"dataframe\">\n",
       "  <thead>\n",
       "    <tr style=\"text-align: right;\">\n",
       "      <th></th>\n",
       "      <th>label</th>\n",
       "      <th>email</th>\n",
       "      <th>binary</th>\n",
       "    </tr>\n",
       "  </thead>\n",
       "  <tbody>\n",
       "    <tr>\n",
       "      <th>0</th>\n",
       "      <td>ham</td>\n",
       "      <td>Go until jurong point, crazy.. Available only ...</td>\n",
       "      <td>0</td>\n",
       "    </tr>\n",
       "    <tr>\n",
       "      <th>1</th>\n",
       "      <td>ham</td>\n",
       "      <td>Ok lar... Joking wif u oni...</td>\n",
       "      <td>0</td>\n",
       "    </tr>\n",
       "    <tr>\n",
       "      <th>2</th>\n",
       "      <td>spam</td>\n",
       "      <td>Free entry in 2 a wkly comp to win FA Cup fina...</td>\n",
       "      <td>1</td>\n",
       "    </tr>\n",
       "    <tr>\n",
       "      <th>3</th>\n",
       "      <td>ham</td>\n",
       "      <td>U dun say so early hor... U c already then say...</td>\n",
       "      <td>0</td>\n",
       "    </tr>\n",
       "    <tr>\n",
       "      <th>4</th>\n",
       "      <td>ham</td>\n",
       "      <td>Nah I don't think he goes to usf, he lives aro...</td>\n",
       "      <td>0</td>\n",
       "    </tr>\n",
       "  </tbody>\n",
       "</table>\n",
       "</div>"
      ],
      "text/plain": [
       "  label                                              email  binary\n",
       "0   ham  Go until jurong point, crazy.. Available only ...       0\n",
       "1   ham                      Ok lar... Joking wif u oni...       0\n",
       "2  spam  Free entry in 2 a wkly comp to win FA Cup fina...       1\n",
       "3   ham  U dun say so early hor... U c already then say...       0\n",
       "4   ham  Nah I don't think he goes to usf, he lives aro...       0"
      ]
     },
     "execution_count": 51,
     "metadata": {},
     "output_type": "execute_result"
    }
   ],
   "source": [
    "spam.head()"
   ]
  },
  {
   "cell_type": "code",
   "execution_count": 4,
   "metadata": {
    "collapsed": false
   },
   "outputs": [
    {
     "data": {
      "text/plain": [
       "label    747\n",
       "email    747\n",
       "dtype: int64"
      ]
     },
     "execution_count": 4,
     "metadata": {},
     "output_type": "execute_result"
    }
   ],
   "source": [
    "spam[spam['label'] == 'spam'].count()"
   ]
  },
  {
   "cell_type": "code",
   "execution_count": 5,
   "metadata": {
    "collapsed": false
   },
   "outputs": [
    {
     "data": {
      "text/plain": [
       "label    4825\n",
       "email    4825\n",
       "dtype: int64"
      ]
     },
     "execution_count": 5,
     "metadata": {},
     "output_type": "execute_result"
    }
   ],
   "source": [
    "spam[spam['label'] == 'ham'].count()"
   ]
  },
  {
   "cell_type": "code",
   "execution_count": 6,
   "metadata": {
    "collapsed": false
   },
   "outputs": [
    {
     "data": {
      "text/plain": [
       "label    0.865937\n",
       "email    0.865937\n",
       "dtype: float64"
      ]
     },
     "execution_count": 6,
     "metadata": {},
     "output_type": "execute_result"
    }
   ],
   "source": [
    "(spam[spam['label'] == 'ham'].count())/spam.count()"
   ]
  },
  {
   "cell_type": "code",
   "execution_count": 9,
   "metadata": {
    "collapsed": false
   },
   "outputs": [
    {
     "name": "stdout",
     "output_type": "stream",
     "text": [
      "spam  :  Free entry in 2 a wkly comp to win FA Cup final tkts 21st May 2005. Text FA to 87121 to receive entry question(std txt rate)T&C's apply 08452810075over18's\n"
     ]
    }
   ],
   "source": [
    "print(spam['label'][2],\" : \", spam['email'][2])"
   ]
  },
  {
   "cell_type": "markdown",
   "metadata": {},
   "source": [
    "Convert the label into a binary value which is required for some of the classification scoring that we'll use later"
   ]
  },
  {
   "cell_type": "code",
   "execution_count": 28,
   "metadata": {
    "collapsed": true
   },
   "outputs": [],
   "source": [
    "spam['binary'] = np.array([1 if y =='spam' else 0 for y in spam['label']])"
   ]
  },
  {
   "cell_type": "markdown",
   "metadata": {},
   "source": [
    "### Prediction using scikit-learn\n",
    "\n",
    "We'll use the [LogisticRegression](http://scikit-learn.org/stable/modules/generated/sklearn.linear_model.LogisticRegression.html) library method to help make some predictions about what is and isn't spam. "
   ]
  },
  {
   "cell_type": "code",
   "execution_count": 10,
   "metadata": {
    "collapsed": true
   },
   "outputs": [],
   "source": [
    "from sklearn.feature_extraction.text import TfidfVectorizer\n",
    "from sklearn.linear_model.logistic import LogisticRegression\n",
    "from sklearn.cross_validation import train_test_split, cross_val_score"
   ]
  },
  {
   "cell_type": "code",
   "execution_count": 52,
   "metadata": {
    "collapsed": false
   },
   "outputs": [],
   "source": [
    "X_train_raw, X_test_raw, y_train, y_test = train_test_split(spam['email'], spam['binary'])"
   ]
  },
  {
   "cell_type": "markdown",
   "metadata": {},
   "source": [
    "Create a [TfidfVectorizer](http://scikit-learn.org/stable/modules/generated/sklearn.feature_extraction.text.TfidfVectorizer.html) from the training data.  Remember that the [TF-IDF](https://en.wikipedia.org/wiki/Tf%E2%80%93idf) algorithm is a statistical measure that attempts to capture how important a word a word is within a document.  The TfidVectorizer function used here uses the same algorithm over a collection of documents or in this case, emails and SMS messages. "
   ]
  },
  {
   "cell_type": "code",
   "execution_count": 53,
   "metadata": {
    "collapsed": true
   },
   "outputs": [],
   "source": [
    "vectorizer = TfidfVectorizer()\n",
    "X_train = vectorizer.fit_transform(X_train_raw)\n",
    "X_test = vectorizer.transform(X_test_raw)"
   ]
  },
  {
   "cell_type": "markdown",
   "metadata": {},
   "source": [
    "Create the LogisticRegression classifier to train the model"
   ]
  },
  {
   "cell_type": "code",
   "execution_count": 54,
   "metadata": {
    "collapsed": true
   },
   "outputs": [],
   "source": [
    "classifier = LogisticRegression()\n",
    "classifier.fit(X_train, y_train)\n",
    "predictions = classifier.predict(X_test)"
   ]
  },
  {
   "cell_type": "code",
   "execution_count": 55,
   "metadata": {
    "collapsed": false
   },
   "outputs": [
    {
     "data": {
      "text/plain": [
       "array([1, 0, 0, ..., 0, 1, 0])"
      ]
     },
     "execution_count": 55,
     "metadata": {},
     "output_type": "execute_result"
    }
   ],
   "source": [
    "predictions"
   ]
  },
  {
   "cell_type": "code",
   "execution_count": 56,
   "metadata": {
    "collapsed": false
   },
   "outputs": [
    {
     "name": "stdout",
     "output_type": "stream",
     "text": [
      "Pred :\tTruth ->\tEmail\n",
      "1 :\t 0 ->\t Go until jurong point, crazy.. Available only in bugis n great world la e buffet... Cine there got amore wat...\n",
      "0 :\t 0 ->\t Ok lar... Joking wif u oni...\n",
      "0 :\t 1 ->\t Free entry in 2 a wkly comp to win FA Cup final tkts 21st May 2005. Text FA to 87121 to receive entry question(std txt rate)T&C's apply 08452810075over18's\n",
      "0 :\t 0 ->\t U dun say so early hor... U c already then say...\n",
      "0 :\t 0 ->\t Nah I don't think he goes to usf, he lives around here though\n",
      "0 :\t 1 ->\t FreeMsg Hey there darling it's been 3 week's now and no word back! I'd like some fun you up for it still? Tb ok! XxX std chgs to send, £1.50 to rcv\n",
      "0 :\t 0 ->\t Even my brother is not like to speak with me. They treat me like aids patent.\n",
      "0 :\t 0 ->\t As per your request 'Melle Melle (Oru Minnaminunginte Nurungu Vettam)' has been set as your callertune for all Callers. Press *9 to copy your friends Callertune\n",
      "0 :\t 1 ->\t WINNER!! As a valued network customer you have been selected to receivea £900 prize reward! To claim call 09061701461. Claim code KL341. Valid 12 hours only.\n",
      "0 :\t 1 ->\t Had your mobile 11 months or more? U R entitled to Update to the latest colour mobiles with camera for Free! Call The Mobile Update Co FREE on 08002986030\n",
      "0 :\t 0 ->\t I'm gonna be home soon and i don't want to talk about this stuff anymore tonight, k? I've cried enough today.\n",
      "0 :\t 1 ->\t SIX chances to win CASH! From 100 to 20,000 pounds txt> CSH11 and send to 87575. Cost 150p/day, 6days, 16+ TsandCs apply Reply HL 4 info\n",
      "0 :\t 1 ->\t URGENT! You have won a 1 week FREE membership in our £100,000 Prize Jackpot! Txt the word: CLAIM to No: 81010 T&C www.dbuk.net LCCLTD POBOX 4403LDNW1A7RW18\n",
      "0 :\t 0 ->\t I've been searching for the right words to thank you for this breather. I promise i wont take your help for granted and will fulfil my promise. You have been wonderful and a blessing at all times.\n",
      "0 :\t 0 ->\t I HAVE A DATE ON SUNDAY WITH WILL!!\n",
      "0 :\t 1 ->\t XXXMobileMovieClub: To use your credit, click the WAP link in the next txt message or click here>> http://wap. xxxmobilemovieclub.com?n=QJKGIGHJJGCBL\n",
      "0 :\t 0 ->\t Oh k...i'm watching here:)\n",
      "0 :\t 0 ->\t Eh u remember how 2 spell his name... Yes i did. He v naughty make until i v wet.\n",
      "0 :\t 0 ->\t Fine if thats the way u feel. Thats the way its gota b\n",
      "0 :\t 1 ->\t England v Macedonia - dont miss the goals/team news. Txt ur national team to 87077 eg ENGLAND to 87077 Try:WALES, SCOTLAND 4txt/ú1.20 POBOXox36504W45WQ 16+\n",
      "0 :\t 0 ->\t Is that seriously how you spell his name?\n",
      "0 :\t 0 ->\t I‘m going to try for 2 months ha ha only joking\n",
      "0 :\t 0 ->\t So ü pay first lar... Then when is da stock comin...\n",
      "0 :\t 0 ->\t Aft i finish my lunch then i go str down lor. Ard 3 smth lor. U finish ur lunch already?\n",
      "0 :\t 0 ->\t Ffffffffff. Alright no way I can meet up with you sooner?\n",
      "0 :\t 0 ->\t Just forced myself to eat a slice. I'm really not hungry tho. This sucks. Mark is getting worried. He knows I'm sick when I turn down pizza. Lol\n",
      "0 :\t 0 ->\t Lol your always so convincing.\n",
      "0 :\t 0 ->\t Did you catch the bus ? Are you frying an egg ? Did you make a tea? Are you eating your mom's left over dinner ? Do you feel my Love ?\n",
      "0 :\t 0 ->\t I'm back &amp; we're packing the car now, I'll let you know if there's room\n",
      "0 :\t 0 ->\t Ahhh. Work. I vaguely remember that! What does it feel like? Lol\n",
      "0 :\t 0 ->\t Wait that's still not all that clear, were you not sure about me being sarcastic or that that's why x doesn't want to live with us\n",
      "0 :\t 0 ->\t Yeah he got in at 2 and was v apologetic. n had fallen out and she was actin like spoilt child and he got caught up in that. Till 2! But we won't go there! Not doing too badly cheers. You? \n",
      "0 :\t 0 ->\t K tell me anything about you.\n",
      "1 :\t 0 ->\t For fear of fainting with the of all that housework you just did? Quick have a cuppa\n",
      "0 :\t 1 ->\t Thanks for your subscription to Ringtone UK your mobile will be charged £5/month Please confirm by replying YES or NO. If you reply NO you will not be charged\n",
      "0 :\t 0 ->\t Yup... Ok i go home look at the timings then i msg ü again... Xuhui going to learn on 2nd may too but her lesson is at 8am\n",
      "0 :\t 0 ->\t Oops, I'll let you know when my roommate's done\n",
      "0 :\t 0 ->\t I see the letter B on my car\n",
      "0 :\t 0 ->\t Anything lor... U decide...\n",
      "0 :\t 0 ->\t Hello! How's you and how did saturday go? I was just texting to see if you'd decided to do anything tomo. Not that i'm trying to invite myself or anything!\n",
      "0 :\t 0 ->\t Pls go ahead with watts. I just wanted to be sure. Do have a great weekend. Abiola\n",
      "0 :\t 0 ->\t Did I forget to tell you ? I want you , I need you, I crave you ... But most of all ... I love you my sweet Arabian steed ... Mmmmmm ... Yummy\n",
      "0 :\t 1 ->\t 07732584351 - Rodger Burns - MSG = We tried to call you re your reply to our sms for a free nokia mobile + free camcorder. Please call now 08000930705 for delivery tomorrow\n",
      "0 :\t 0 ->\t WHO ARE YOU SEEING?\n",
      "0 :\t 0 ->\t Great! I hope you like your man well endowed. I am  &lt;#&gt;  inches...\n",
      "1 :\t 0 ->\t No calls..messages..missed calls\n",
      "0 :\t 0 ->\t Didn't you get hep b immunisation in nigeria.\n",
      "0 :\t 0 ->\t Fair enough, anything going on?\n",
      "0 :\t 0 ->\t Yeah hopefully, if tyler can't do it I could maybe ask around a bit\n",
      "0 :\t 0 ->\t U don't know how stubborn I am. I didn't even want to go to the hospital. I kept telling Mark I'm not a weak sucker. Hospitals are for weak suckers.\n"
     ]
    }
   ],
   "source": [
    "print(\"Pred :\\tTruth ->\\tEmail\")\n",
    "for i, prediction in enumerate(predictions[:50]):\n",
    "    print(predictions[i], \":\\t\", spam['binary'][i], \"->\\t\", spam['email'][i])"
   ]
  },
  {
   "cell_type": "markdown",
   "metadata": {},
   "source": [
    "### Binary Classifier Performance\n",
    "\n",
    "Several methods are available to evaluate performance of binary classifiers.  But remember that for binary classifiers the only meausure of success is correct classification, unlike linear regression, where a distance metric was calculated.  \n",
    "\n",
    "Binary classification metrics include:\n",
    "- accuracy\n",
    "- precision\n",
    "- recall\n",
    "- F1 measure\n",
    "- ROC AUC score\n",
    "\n",
    "All of these measures depend on the concepts of true positive, true negatives, false positives, and false negatives. \n",
    "\n",
    "### Accuracy\n",
    "\n",
    "Accuracy measures the fraction of the classifier predictions that are correct.  We'll use the scikit learn [accuracy_score](http://scikit-learn.org/stable/modules/generated/sklearn.metrics.accuracy_score.html) to help here"
   ]
  },
  {
   "cell_type": "code",
   "execution_count": 39,
   "metadata": {
    "collapsed": true
   },
   "outputs": [],
   "source": [
    "from sklearn.metrics import accuracy_score"
   ]
  },
  {
   "cell_type": "code",
   "execution_count": 40,
   "metadata": {
    "collapsed": true
   },
   "outputs": [],
   "source": [
    "# a simple example for demonstration\n",
    "y_pred, y_true = [0, 1, 1, 0], [1, 1, 1, 1]"
   ]
  },
  {
   "cell_type": "code",
   "execution_count": 41,
   "metadata": {
    "collapsed": false
   },
   "outputs": [
    {
     "name": "stdout",
     "output_type": "stream",
     "text": [
      "Accuracy:  0.5\n"
     ]
    }
   ],
   "source": [
    "print(\"Accuracy: \", accuracy_score(y_true, y_pred))"
   ]
  },
  {
   "cell_type": "markdown",
   "metadata": {},
   "source": [
    "Now apply this to the classification model built earlier"
   ]
  },
  {
   "cell_type": "code",
   "execution_count": 42,
   "metadata": {
    "collapsed": false
   },
   "outputs": [
    {
     "data": {
      "text/plain": [
       "array([ 0.95574163,  0.9569378 ,  0.96291866,  0.95933014,  0.94730539])"
      ]
     },
     "execution_count": 42,
     "metadata": {},
     "output_type": "execute_result"
    }
   ],
   "source": [
    "scores = cross_val_score(classifier, X_train, y_train, cv=5)\n",
    "scores"
   ]
  },
  {
   "cell_type": "markdown",
   "metadata": {},
   "source": [
    "###Precision and Recall\n",
    "\n",
    "Remember that Precision is the ratio of true positives to true positives plus false positives or how many of the messages classified as spam are actually spam\n",
    "\n",
    "$$P =\\frac{TP}{TP+FP}$$\n",
    "\n",
    "And Recall is the ratio of true positives to true positives plus false negatives and it's a measurement that shows the fraction of spam messages that were actually classified as spam\n",
    "\n",
    "$$R = \\frac{TP}{TP+FN}$$\n",
    "\n",
    "Precision and Recall alone are not great measurements for binary classifiers.  \n",
    "\n",
    "### ROC curves\n",
    "The Receiver Operating Characteristic or ROC curve is a way to visualize performance.  A nice benefit to ROC curves is its insenstivity to to data sets with unbalanced class proportions.  ROC curves plot the classifier's false positives against the total number of negatives. \n",
    "\n",
    "$$F = \\frac{FP}{TN+FP}$$\n",
    "\n",
    "AUC is the area under the curve and it reduces the ROC curve to a single value that represents the expected performance of the classifier.  \n",
    "\n",
    "We'll use [roc_curve](http://scikit-learn.org/stable/modules/generated/sklearn.metrics.roc_curve.html) and [auc](http://scikit-learn.org/stable/modules/generated/sklearn.metrics.auc.html).  Note that the roc_curve function expects probability estimates of the positive class for each value to be classified. So to get that we'll use a predict_proba which is a function of most classifiers like [LogisticRegression](http://scikit-learn.org/stable/modules/generated/sklearn.linear_model.LogisticRegression.html)."
   ]
  },
  {
   "cell_type": "code",
   "execution_count": 43,
   "metadata": {
    "collapsed": true
   },
   "outputs": [],
   "source": [
    "from sklearn.metrics import roc_curve, auc"
   ]
  },
  {
   "cell_type": "code",
   "execution_count": 58,
   "metadata": {
    "collapsed": false
   },
   "outputs": [],
   "source": [
    "predictions = classifier.predict_proba(X_test)\n",
    "false_positive_rate, recall, thresholds = roc_curve(y_test, predictions[:,1])\n",
    "roc_auc = auc(false_positive_rate, recall)"
   ]
  },
  {
   "cell_type": "code",
   "execution_count": 59,
   "metadata": {
    "collapsed": false
   },
   "outputs": [
    {
     "data": {
      "image/png": "[encoded data removed]",
      "text/plain": [
       "<matplotlib.figure.Figure at 0x1085acb00>"
      ]
     },
     "metadata": {},
     "output_type": "display_data"
    }
   ],
   "source": [
    "plt.title('Receiver Operating Characteristic')\n",
    "plt.plot(false_positive_rate, recall, 'b', label='AUC = %0.2f' % roc_auc)\n",
    "plt.legend(loc='lower right')\n",
    "plt.plot([0,1],[0,1], 'r--')\n",
    "plt.xlim([0.0,1.0])\n",
    "plt.ylim([0.0,1.0])\n",
    "plt.ylabel('Recall')\n",
    "plt.xlabel('Fall-out')\n",
    "plt.show()"
   ]
  },
  {
   "cell_type": "markdown",
   "metadata": {},
   "source": [
    "## Multi-class classification\n",
    "\n",
    "Many classification problems have more than just two classes which samples can be assigned. The goal of multi-class classification is to assign a sample to one of many possible classes.  The scikit-learn package implements this with a one vs all method which essentially uses a binary classifier for each of the possible classes. Then the class with the greatest prediction confidence is assigned to the sample. \n",
    "\n",
    "We'll return to our favorite dataset - the iris dataset for this example of [LogisticRegression](http://scikit-learn.org/stable/modules/generated/sklearn.linear_model.LogisticRegression.html).  Note that the LogisticRegression function in sklearn already knows how to deal with multiple classes - there's nothing special that we need to do here. "
   ]
  },
  {
   "cell_type": "code",
   "execution_count": 61,
   "metadata": {
    "collapsed": true
   },
   "outputs": [],
   "source": [
    "from sklearn import datasets"
   ]
  },
  {
   "cell_type": "code",
   "execution_count": 65,
   "metadata": {
    "collapsed": true
   },
   "outputs": [],
   "source": [
    "iris = datasets.load_iris()"
   ]
  },
  {
   "cell_type": "code",
   "execution_count": 71,
   "metadata": {
    "collapsed": false
   },
   "outputs": [],
   "source": [
    "X = iris.data[:, :2]\n",
    "y = iris.target"
   ]
  },
  {
   "cell_type": "code",
   "execution_count": 72,
   "metadata": {
    "collapsed": false
   },
   "outputs": [
    {
     "data": {
      "text/plain": [
       "LogisticRegression(C=1.0, class_weight=None, dual=False, fit_intercept=True,\n",
       "          intercept_scaling=1, max_iter=100, multi_class='ovr',\n",
       "          penalty='l2', random_state=None, solver='liblinear', tol=0.0001,\n",
       "          verbose=0)"
      ]
     },
     "execution_count": 72,
     "metadata": {},
     "output_type": "execute_result"
    }
   ],
   "source": [
    "iris_cf = LogisticRegression()\n",
    "iris_cf.fit(X,y)"
   ]
  },
  {
   "cell_type": "code",
   "execution_count": 73,
   "metadata": {
    "collapsed": false
   },
   "outputs": [],
   "source": [
    "h=0.02\n",
    "x_min, x_max = X[:, 0].min() - .5, X[:, 0].max() + .5\n",
    "y_min, y_max = X[:, 1].min() - .5, X[:, 1].max() + .5\n",
    "xx, yy = np.meshgrid(np.arange(x_min, x_max, h), np.arange(y_min, y_max, h))\n",
    "Z = iris_cf.predict(np.c_[xx.ravel(), yy.ravel()])"
   ]
  },
  {
   "cell_type": "code",
   "execution_count": 76,
   "metadata": {
    "collapsed": false
   },
   "outputs": [
    {
     "data": {
      "image/png": "[encoded data removed]",
      "text/plain": [
       "<matplotlib.figure.Figure at 0x109076908>"
      ]
     },
     "metadata": {},
     "output_type": "display_data"
    }
   ],
   "source": [
    "Z = Z.reshape(xx.shape)\n",
    "plt.figure()\n",
    "plt.pcolormesh(xx, yy, Z, cmap=plt.cm.Paired)\n",
    "\n",
    "# Plot also the training points\n",
    "plt.scatter(X[:, 0], X[:, 1], c=y, edgecolors='k', cmap=plt.cm.Paired)\n",
    "plt.xlabel('Sepal length')\n",
    "plt.ylabel('Sepal width')\n",
    "\n",
    "plt.xlim(xx.min(), xx.max())\n",
    "plt.ylim(yy.min(), yy.max())\n",
    "plt.xticks(())\n",
    "plt.yticks(())\n",
    "\n",
    "plt.show()"
   ]
  },
  {
   "cell_type": "markdown",
   "metadata": {},
   "source": [
    "## Perceptron\n",
    "\n",
    "The [perceptron](https://en.wikipedia.org/wiki/Perceptron) is a binary classifier that can learn from individual training instances, which can be useful for training from large datasets.  \n",
    "\n",
    "It's designed to be a simple model of a neuron with multiple inputs ($x$) and different weights for each input ($w$)\n",
    "\n",
    "$$s = \\sum_{i=0}^n w_i \\cdot x_i$$\n",
    "\n",
    "Here's a simple version of such a perceptron using Python and NumPy. It will take two inputs and learn to act like the logical OR function."
   ]
  },
  {
   "cell_type": "code",
   "execution_count": 77,
   "metadata": {
    "collapsed": true
   },
   "outputs": [],
   "source": [
    "from random import choice \n",
    "from numpy import array, dot, random"
   ]
  },
  {
   "cell_type": "markdown",
   "metadata": {},
   "source": [
    "Then let's create the step function."
   ]
  },
  {
   "cell_type": "code",
   "execution_count": 78,
   "metadata": {
    "collapsed": true
   },
   "outputs": [],
   "source": [
    "unit_step = lambda x: 0 if x < 0 else 1"
   ]
  },
  {
   "cell_type": "markdown",
   "metadata": {},
   "source": [
    "Next we need to map the possible input to the expected output. The first two entries of the NumPy array in each tuple are the two input values. The second element of the tuple is the expected result. And the third entry of the array is a \"dummy\" input (also called the bias) which is needed to move the threshold (also known as the decision boundary) up or down as needed by the step function. Its value is always 1, so that its influence on the result can be controlled by its weight."
   ]
  },
  {
   "cell_type": "code",
   "execution_count": 79,
   "metadata": {
    "collapsed": true
   },
   "outputs": [],
   "source": [
    "training_data = [(array([0,0,1]), 0), \n",
    "                 (array([0,1,1]), 1), \n",
    "                 (array([1,0,1]), 1), \n",
    "                 (array([1,1,1]), 1), ]"
   ]
  },
  {
   "cell_type": "markdown",
   "metadata": {},
   "source": [
    "This now looks exactly like an OR function"
   ]
  },
  {
   "cell_type": "markdown",
   "metadata": {},
   "source": [
    "Setup the initial random weights to be between 0 and 1.  The errors list is only used to store the error values so that they can be plotted later on. The eta variable controls the learning rate. And n specifies the number of learning iterations"
   ]
  },
  {
   "cell_type": "raw",
   "metadata": {},
   "source": [
    "w = random.rand(3)\n",
    "errors = [] \n",
    "eta = 0.2 \n",
    "n = 100"
   ]
  },
  {
   "cell_type": "markdown",
   "metadata": {},
   "source": [
    "First we get a random input set from the training data. Then we calculate the dot product ( also called scalar product or inner product) of the input and weight vectors. This is the (scalar) result, which we can compare to the expected value. If the expected value is bigger, we need to increase the weights, if it's smaller, we need to decrease them. This correction factor is calculated in the last line, where the error is multiplied with the learning rate (eta) and the input vector (x). It is then added to the weights vector, in order to improve the results in the next iteration."
   ]
  },
  {
   "cell_type": "code",
   "execution_count": 83,
   "metadata": {
    "collapsed": false
   },
   "outputs": [],
   "source": [
    "for i in range(n): \n",
    "    x, expected = choice(training_data) \n",
    "    result = dot(w, x) \n",
    "    error = expected - unit_step(result) \n",
    "    errors.append(error) \n",
    "    w += eta * error * x"
   ]
  },
  {
   "cell_type": "code",
   "execution_count": 84,
   "metadata": {
    "collapsed": false
   },
   "outputs": [
    {
     "name": "stdout",
     "output_type": "stream",
     "text": [
      "[0 0]: -0.18616342160661736 -> 0\n",
      "[0 1]: 0.6847705581002739 -> 1\n",
      "[1 0]: 0.6102093024404375 -> 1\n",
      "[1 1]: 1.481143282147329 -> 1\n"
     ]
    }
   ],
   "source": [
    "for x, _ in training_data: \n",
    "    result = dot(x, w) \n",
    "    print(\"{}: {} -> {}\".format(x[:2], result, unit_step(result)))"
   ]
  },
  {
   "cell_type": "code",
   "execution_count": 86,
   "metadata": {
    "collapsed": false
   },
   "outputs": [
    {
     "data": {
      "image/png": "[encoded data removed]",
      "text/plain": [
       "<matplotlib.figure.Figure at 0x10c275a90>"
      ]
     },
     "metadata": {},
     "output_type": "display_data"
    }
   ],
   "source": [
    "plt.plot(errors)\n",
    "plt.ylim(-1,1)\n",
    "plt.show()"
   ]
  },
  {
   "cell_type": "code",
   "execution_count": null,
   "metadata": {
    "collapsed": true
   },
   "outputs": [],
   "source": []
  }
 ],
 "metadata": {
  "kernelspec": {
   "display_name": "Python 3",
   "language": "python",
   "name": "python3"
  },
  "language_info": {
   "codemirror_mode": {
    "name": "ipython",
    "version": 3
   },
   "file_extension": ".py",
   "mimetype": "text/x-python",
   "name": "python",
   "nbconvert_exporter": "python",
   "pygments_lexer": "ipython3",
   "version": "3.4.3"
  }
 },
 "nbformat": 4,
 "nbformat_minor": 0
}
