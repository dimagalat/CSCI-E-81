{
 "cells": [
  {
   "cell_type": "markdown",
   "metadata": {},
   "source": [
    "# Section 1\n",
    "##CSCI E-81 Machine Learning\n",
    "\n",
    "9/5/2015\n",
    "\n",
    "----------\n",
    "\n",
    "Welcome to CSCI E-81: Machine Learning and Data Mining.  This is your first section for this class and has two parts: \n",
    "1. An introduction to the class with an some intitial system configuration and \n",
    "2. A problem set to test that you have the tools installed correctly and also begins our exploration of machine learning and data mining.  \n",
    "\n",
    "## Class Introduction and Course Website\n",
    "\n",
    "\n",
    "### Prerequisites and Expectations\n",
    "\n",
    "For this class, we will be using Python for all of the data analysis assignments.  The IPython Notebook (what you are looking at right now) is a browser-based application.  \n",
    "\n",
    "Experience with python in particular is not required but will be helpful.  If you've done any type of scientific programming with a differnet language and you're comfortable learning a new language on your own, then that should suffice.  If you've completed [CSCI E-109](http://cs109.github.io/2014/index.html) then you'll be perfectly prepared.  But if python is new to you then [here is a link](https://github.com/jrjohansson/scientific-python-lectures) to some great python tutorials to help get you started.  \n",
    "  \n",
    "In addition to Python, you should be comfortable with:\n",
    "- reading API's for libraries like [scikit-learn](http://scikit-learn.org/stable/modules/classes.html) or other [documentation](http://scikit-learn.org/stable/documentation.html)\n",
    "- searching websites like [stackoverflow](http://stackoverflow.com/) for help to common questions\n",
    "- posting and/or answering questions on this course's Canvas site\n",
    "\n",
    "### Installing Python\n",
    "\n",
    "Python is free and comes distributed with most Unix/Linux based systems pre-installed.  **We will be using Python v3.4** There are also many free 3rd party libraries available for scientific computing.  We could list all the useful libraries here and install them individually, but Continuum has done a nice job of that for us already with their Anaconda distribution.  Download and install it from [here](http://continuum.io/downloads#py34).   \n",
    "\n",
    "When you have finished installing the distribution, open a terminal and execute the following commands to get the latest versions of all the libraries.  Note that you **must** have a working internet connection for this to be successful. \n",
    "\n",
    "```\n",
    "conda update conda\n",
    "conda update anaconda\n",
    "```\n",
    "\n",
    "### IPython Notebook\n",
    "\n",
    "We will primarily use the IPython Notebook for code assignments.  IPython Notebook is a browswer-based \"interactive computational environment\" that allows you to \"combine code execution, rich text, mathematics, [and] plots\".  To start the notebook server, open a terminal and type \n",
    "\n",
    "```\n",
    "ipython notebook [notebook filename]\n",
    "```\n",
    "\n",
    "The notebook filename is optional and if omitted will launch a file explorer type window that allows you to select from existing notebooks in the current directory or start new ones.  \n",
    "\n",
    "To get started on this homework, download a local copy of this notebook and save it to a directory.  Then browse to that directory in your terminal and execute the command above to begin working.  \n",
    "\n",
    "The IPython Notebook is based on the IPython shell, but combines it with the concept of \"cells\" that contain code or text that can be executed individually.  To execute an individual cell, click on it and press \"shift-enter\" or the play button in the tool bar above.  \n",
    "\n",
    "---"
   ]
  },
  {
   "cell_type": "markdown",
   "metadata": {},
   "source": [
    "## A note about Python 3.4 and Python 2.7\n",
    "If you already have python 2.7 on your system and/or you've installed Anaconda with python 2.7 then you'll need to setup a virtual environment with python 3.4 for this class.  Follow these [guidelines](http://conda.pydata.org/docs/using/envs.html) for setting up a new environment. \n",
    "\n",
    "The basic commands will be something like below to create and activate a new environment with the required libraries\n",
    "\n",
    "```\n",
    "conda create --name py34env python=3.4 anaconda\n",
    "source activate py34env\n",
    "\n",
    "```"
   ]
  },
  {
   "cell_type": "code",
   "execution_count": null,
   "metadata": {
    "collapsed": false
   },
   "outputs": [],
   "source": [
    "test = True\n",
    "if test:\n",
    "    print(\"Hello World!\")"
   ]
  },
  {
   "cell_type": "markdown",
   "metadata": {},
   "source": [
    "## Python Libraries Test"
   ]
  },
  {
   "cell_type": "code",
   "execution_count": null,
   "metadata": {
    "collapsed": false
   },
   "outputs": [],
   "source": [
    "#IPython is what you are using now to run the notebook\n",
    "import IPython\n",
    "print(\"IPython version:      %6.6s (need at least 3.2.1)\" % IPython.__version__)\n",
    "\n",
    "# Numpy is a library for working with Arrays\n",
    "import numpy \n",
    "print(\"Numpy version:        %6.6s (need at least 1.9.2)\" % numpy.__version__)\n",
    "\n",
    "# SciPy implements many different numerical algorithms\n",
    "import scipy \n",
    "print(\"SciPy version:        %6.6s (need at least 0.15.1)\" % scipy.__version__)\n",
    "\n",
    "# Pandas makes working with data tables easier\n",
    "import pandas \n",
    "print(\"Pandas version:       %6.6s (need at least 0.16.2)\" % pandas.__version__)\n",
    "\n",
    "# Module for plotting\n",
    "import matplotlib\n",
    "print(\"Mapltolib version:    %6.6s (need at least 1.4.3)\" % matplotlib.__version__)\n",
    "\n",
    "# SciKit Learn implements several Machine Learning algorithms\n",
    "import sklearn\n",
    "print(\"Scikit-Learn version: %6.6s (need at least 0.16.1)\" % sklearn.__version__)"
   ]
  },
  {
   "cell_type": "markdown",
   "metadata": {},
   "source": [
    "## Introduction to Python and Pandas (and a little Matplotlib)\n",
    "For this section, we'll spend a little time introducing two libraries that might be useful for the first homework, Pandas and Matplotlib.  "
   ]
  },
  {
   "cell_type": "code",
   "execution_count": null,
   "metadata": {
    "collapsed": true
   },
   "outputs": [],
   "source": [
    "## Magic matplotlib line to show graphs in the notebook\n",
    "%matplotlib inline  \n",
    "\n",
    "import matplotlib.pyplot as plt"
   ]
  },
  {
   "cell_type": "markdown",
   "metadata": {},
   "source": [
    "### Pandas\n",
    "\n",
    "[Pandas](http://pandas.pydata.org/pandas-docs/stable/index.html) is a python library for data analysis and provides many built-in data structures and methods that make exploring and understanding structured and semi-structured data very straightforward.  \n",
    "\n",
    "Let's do a quick example"
   ]
  },
  {
   "cell_type": "code",
   "execution_count": null,
   "metadata": {
    "collapsed": true
   },
   "outputs": [],
   "source": [
    "## the sklearn package comes with a built-in datasets unit\n",
    "from sklearn import datasets"
   ]
  },
  {
   "cell_type": "markdown",
   "metadata": {},
   "source": [
    "####Python has TAB completion.  Very useful to explore both data and methods"
   ]
  },
  {
   "cell_type": "code",
   "execution_count": null,
   "metadata": {
    "collapsed": false
   },
   "outputs": [],
   "source": [
    "boston = datasets.load_boston()\n",
    "boston.keys()"
   ]
  },
  {
   "cell_type": "code",
   "execution_count": null,
   "metadata": {
    "collapsed": false
   },
   "outputs": [],
   "source": [
    "print(boston.DESCR)"
   ]
  },
  {
   "cell_type": "markdown",
   "metadata": {},
   "source": [
    "#### We can then load this data into a DataFrame to utilize the built-in methods"
   ]
  },
  {
   "cell_type": "code",
   "execution_count": null,
   "metadata": {
    "collapsed": false
   },
   "outputs": [],
   "source": [
    "boston_df = pandas.DataFrame(boston.data, columns=boston.feature_names)\n",
    "boston_df.head()"
   ]
  },
  {
   "cell_type": "markdown",
   "metadata": {},
   "source": [
    "To get help with any command, append a '?' to the end of it"
   ]
  },
  {
   "cell_type": "code",
   "execution_count": null,
   "metadata": {
    "collapsed": false
   },
   "outputs": [],
   "source": [
    "pandas.DataFrame?"
   ]
  },
  {
   "cell_type": "markdown",
   "metadata": {},
   "source": [
    "#### We can inspect the individual components of a DataFrame"
   ]
  },
  {
   "cell_type": "code",
   "execution_count": null,
   "metadata": {
    "collapsed": false
   },
   "outputs": [],
   "source": [
    "boston_df['MEDV'] = boston.target"
   ]
  },
  {
   "cell_type": "code",
   "execution_count": null,
   "metadata": {
    "collapsed": false
   },
   "outputs": [],
   "source": [
    "boston_df.index"
   ]
  },
  {
   "cell_type": "code",
   "execution_count": null,
   "metadata": {
    "collapsed": false
   },
   "outputs": [],
   "source": [
    "boston_df.columns"
   ]
  },
  {
   "cell_type": "code",
   "execution_count": null,
   "metadata": {
    "collapsed": false
   },
   "outputs": [],
   "source": [
    "boston_df.values"
   ]
  },
  {
   "cell_type": "markdown",
   "metadata": {},
   "source": [
    "We can still access the raw data through the methods provided to us from the pandas package.  We can also slice the DataFrame itself by columns and rows into smaller DataFrames  "
   ]
  },
  {
   "cell_type": "code",
   "execution_count": null,
   "metadata": {
    "collapsed": false
   },
   "outputs": [],
   "source": [
    "## Get a specific column of a DataFrame\n",
    "# boston_df.AGE \n",
    "# or \n",
    "# boston_df['AGE']"
   ]
  },
  {
   "cell_type": "code",
   "execution_count": null,
   "metadata": {
    "collapsed": false
   },
   "outputs": [],
   "source": [
    "## Get a specific set of rows from a DataFrame\n",
    "boston_df[0:3]\n",
    "# or \n",
    "# boston_df.iloc[0:3]"
   ]
  },
  {
   "cell_type": "markdown",
   "metadata": {},
   "source": [
    "### Pandas also provides more methods to help with exploratory data analysis\n",
    "\n",
    "We can view a summary table of statistics about the data"
   ]
  },
  {
   "cell_type": "code",
   "execution_count": null,
   "metadata": {
    "collapsed": false
   },
   "outputs": [],
   "source": [
    "boston_df.describe()"
   ]
  },
  {
   "cell_type": "code",
   "execution_count": null,
   "metadata": {
    "collapsed": false
   },
   "outputs": [],
   "source": [
    "boston_df.hist(column='CRIM')\n",
    "plt.title('Distribution of Crime Rates')\n",
    "plt.xlabel('Crime rate')"
   ]
  },
  {
   "cell_type": "code",
   "execution_count": null,
   "metadata": {
    "collapsed": false
   },
   "outputs": [],
   "source": [
    "# Relationship between crime rate and home values\n",
    "plt.plot(boston_df.MEDV, boston_df.CRIM,'o')\n",
    "plt.xlabel('Median House Values')\n",
    "plt.ylabel('Crime Rate')\n",
    "plt.title('Relationship between House value and Crime rate')"
   ]
  },
  {
   "cell_type": "markdown",
   "metadata": {},
   "source": [
    "Plus much, much more.  [Groupby](http://pandas.pydata.org/pandas-docs/stable/groupby.html) functions are extremely useful for categorical data (like the Charles River feature) and DataFrames even support SQL style [join and merge](http://pandas.pydata.org/pandas-docs/stable/merging.html) methods.  We might cover these in a later section if needed.  \n",
    "\n",
    "But everyone should feel comfortable browsing the documentation available online or searching through StackOverflow posts. "
   ]
  },
  {
   "cell_type": "markdown",
   "metadata": {},
   "source": [
    "##Python\n",
    "\n",
    "You should spend some time becoming familiar with Python.  There are some subtle differences between python 2.7 and python 3.4.  Here's a [link](https://wiki.python.org/moin/BeginnersGuide/Programmers) to a list of tutorials.  The one by [Google](https://developers.google.com/edu/python/?hl=en) is good and highlights a lot of the main fuctionality you should be familiar with for this class such as \n",
    "- [Python shell](https://developers.google.com/edu/python/introduction)\n",
    "- [Lists](https://developers.google.com/edu/python/lists)\n",
    "- [Strings](https://developers.google.com/edu/python/strings)\n",
    "\n",
    "But you should also be familiar with basic control structures (if/else, for, while, etc) which can be found in the online [Python](https://docs.python.org/3/tutorial/) documentation. \n",
    "\n",
    "We'll discus more details in future sections as needed. "
   ]
  },
  {
   "cell_type": "code",
   "execution_count": null,
   "metadata": {
    "collapsed": true
   },
   "outputs": [],
   "source": []
  }
 ],
 "metadata": {
  "kernelspec": {
   "display_name": "Python 3",
   "language": "python",
   "name": "python3"
  },
  "language_info": {
   "codemirror_mode": {
    "name": "ipython",
    "version": 3
   },
   "file_extension": ".py",
   "mimetype": "text/x-python",
   "name": "python",
   "nbconvert_exporter": "python",
   "pygments_lexer": "ipython3",
   "version": "3.4.3"
  }
 },
 "nbformat": 4,
 "nbformat_minor": 0
}
